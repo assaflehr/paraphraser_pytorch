{
  "nbformat": 4,
  "nbformat_minor": 0,
  "metadata": {
    "colab": {
      "name": "paraphraser_pytorch_bible.ipynb",
      "version": "0.3.2",
      "provenance": [],
      "include_colab_link": true
    },
    "kernelspec": {
      "name": "python3",
      "display_name": "Python 3"
    },
    "accelerator": "GPU"
  },
  "cells": [
    {
      "cell_type": "markdown",
      "metadata": {
        "id": "view-in-github",
        "colab_type": "text"
      },
      "source": [
        "[View in Colaboratory](https://colab.research.google.com/github/assaflehr/paraphraser_pytorch/blob/master/notebooks/paraphraser_pytorch_bible.ipynb)"
      ]
    },
    {
      "metadata": {
        "id": "XYOemVe_MYXe",
        "colab_type": "code",
        "colab": {
          "base_uri": "https://localhost:8080/",
          "height": 419
        },
        "outputId": "e9105752-e9d0-4b68-c6b8-b445538434d7"
      },
      "cell_type": "code",
      "source": [
        "!pip install torch -U  # 0.4 at-least, on windows, read installation instrcution of pytorch.org\n",
        "!pip install --quiet torchtext  # for simpler datasets\n",
        "!pip install --quiet git+https://github.com/IBM/pytorch-seq2seq  #for seq2seq\n",
        "!pip install --quiet dill  #req of seq2seq\n",
        "!pip install --quiet tqdm  #req of seq2seq\n",
        "!pip install --quiet revtok #for torchtext word tokenizer\n",
        "\n",
        "#bible dataset\n",
        "!wget https://github.com/scrollmapper/bible_databases/raw/master/csv/t_bbe.csv\n",
        "!wget https://github.com/scrollmapper/bible_databases/raw/master/csv/t_wbt.csv\n",
        "!head t_bbe.csv\n",
        "\n",
        "!rm -r paraphraser_pytorch  #remove previous github copy if needed\n",
        "!git clone https://github.com/assaflehr/paraphraser_pytorch.git\n",
        "import sys\n",
        "sys.path.append('paraphraser_pytorch/paraph')\n",
        "\n",
        "%load_ext autoreload\n",
        "%autoreload 2\n",
        "\n"
      ],
      "execution_count": 1,
      "outputs": [
        {
          "output_type": "stream",
          "text": [
            "Requirement already up-to-date: torch in /usr/local/lib/python3.6/dist-packages (0.4.1)\n",
            "\n",
            "Redirecting output to ‘wget-log.2’.\n",
            "\n",
            "Redirecting output to ‘wget-log.3’.\n",
            "id,b,c,v,t\n",
            "1001001,1,1,1,At the first God made the heaven and the earth.\n",
            "1001002,1,1,2,And the earth was waste and without form; and it was dark on the face of the deep: and the Spirit of God was moving on the face of the waters.\n",
            "1001003,1,1,3,\"And God said, Let there be light: and there was light.\"\n",
            "1001004,1,1,4,\"And God, looking on the light, saw that it was good: and God made a division between the light and the dark,\"\n",
            "1001005,1,1,5,\"Naming the light, Day, and the dark, Night. And there was evening and there was morning, the first day.\"\n",
            "1001006,1,1,6,\"And God said, Let there be a solid arch stretching over the waters, parting the waters from the waters.\"\n",
            "1001007,1,1,7,And God made the arch for a division between the waters which were under the arch and those which were over it: and it was so.\n",
            "1001008,1,1,8,\"And God gave the arch the name of Heaven. And there was evening and there was morning, the second day.\"\n",
            "1001009,1,1,9,\"And God said, Let the waters under the heaven come together in one place, and let the dry land be seen: and it was so.\"\n",
            "Cloning into 'paraphraser_pytorch'...\n",
            "remote: Counting objects: 110, done.\u001b[K\n",
            "remote: Compressing objects: 100% (80/80), done.\u001b[K\n",
            "remote: Total 110 (delta 53), reused 80 (delta 30), pack-reused 0\u001b[K\n",
            "Receiving objects: 100% (110/110), 49.53 KiB | 289.00 KiB/s, done.\n",
            "Resolving deltas: 100% (53/53), done.\n"
          ],
          "name": "stdout"
        }
      ]
    },
    {
      "metadata": {
        "id": "Qazab7JgyEyM",
        "colab_type": "text"
      },
      "cell_type": "markdown",
      "source": [
        "# Option 1 : Run from command-line"
      ]
    },
    {
      "metadata": {
        "id": "Azsvl721yHz7",
        "colab_type": "code",
        "colab": {}
      },
      "cell_type": "code",
      "source": [
        "! python paraphraser_pytorch/paraph/train.py  --help\n",
        "! python paraphraser_pytorch/paraph/train.py  --dataset bible"
      ],
      "execution_count": 0,
      "outputs": []
    },
    {
      "metadata": {
        "id": "-8rnHHqkyOVs",
        "colab_type": "text"
      },
      "cell_type": "markdown",
      "source": [
        "# Option 2:  Run train directly from code. \n",
        "\n",
        "This way, you can modify all the details of the program."
      ]
    },
    {
      "metadata": {
        "id": "UjgeLfn5NRgG",
        "colab_type": "code",
        "colab": {
          "base_uri": "https://localhost:8080/",
          "height": 1822
        },
        "outputId": "0a880057-a44f-4ad5-cc63-dc054ff09862"
      },
      "cell_type": "code",
      "source": [
        "from train import train_main\n",
        "from options import get_options\n",
        "\n",
        "\n",
        "\n",
        "sys.argv= [\"first_is_filename\",\"--sem_sim_weight\",\"0\",\"--sd_weight\",\"10\",\"--epocs\",\"100\",\"--lr\",\"0.001\"] #change if needed\n",
        "bucket_iter_train, bucket_iter_val, models= train_main(opt = get_options(True))\n",
        "#now you can query the iterators, look inside the model summary, etc "
      ],
      "execution_count": 4,
      "outputs": [
        {
          "output_type": "stream",
          "text": [
            "Namespace(adv_disc_lr=0.01, batch_size=32, beta1=0.5, epoch_size=500, epocs=10, lr=0.001, max_sent_len=30, optimizer='adam', sd_weight=10.0, sem_sim_weight=0.0, semantics_dim=256, style_dim=100)\n",
            "running train with options: Namespace(adv_disc_lr=0.01, batch_size=32, beta1=0.5, epoch_size=500, epocs=10, lr=0.001, max_sent_len=30, optimizer='adam', sd_weight=10.0, sem_sim_weight=0.0, semantics_dim=256, style_dim=100)\n",
            "num of sentences 31103 31106\n",
            "\n",
            "building vocab:\n"
          ],
          "name": "stdout"
        },
        {
          "output_type": "stream",
          "text": [
            "07:28:19 INFO:Downloading vectors from https://s3-us-west-1.amazonaws.com/fasttext-vectors/wiki.simple.vec\n",
            ".vector_cache/wiki.simple.vec: 293MB [00:10, 29.0MB/s]                           \n",
            "07:28:29 INFO:Extracting vectors into .vector_cache\n",
            "07:28:30 INFO:Loading vectors from .vector_cache/wiki.simple.vec\n",
            "  0%|          | 0/111052 [00:00<?, ?it/s]07:28:30 WARNING:Skipping token 111051 with 1-dimensional vector ['300']; likely a header\n",
            "100%|██████████| 111052/111052 [00:16<00:00, 6689.58it/s]\n",
            "07:28:49 INFO:Saving vectors to .vector_cache/wiki.simple.vec.pt\n"
          ],
          "name": "stderr"
        },
        {
          "output_type": "stream",
          "text": [
            "total 2074 after ignoring non-frequent\n",
            "device is cuda or -1 for cpu: cuda\n",
            "lr 0.001 0.5\n"
          ],
          "name": "stdout"
        },
        {
          "output_type": "stream",
          "text": [
            "07:31:11 INFO:[00] train rec loss: 3.6921 | sim loss: 0.0000 | anti_disc_loss: 0.0001 || scene disc 0.6929 50.850% \n",
            "07:32:19 INFO:[00] eval rec loss: 3.2369 | sim loss: 0.0000 | anti_disc_loss: 0.0003 || scene disc 0.6926 53.716% \n"
          ],
          "name": "stderr"
        },
        {
          "output_type": "stream",
          "text": [
            "\n",
            "              sent0:  and  god  gave  the  dry  land  the  name  of  earth ;  and  the  waters  together  in  their  place  were  named  seas :  and  god  saw  that  it  was  good . <pad><pad><pad><pad><pad><pad><pad><pad><pad><pad><pad><pad><pad><pad><pad><pad><pad><pad><pad>\n",
            "         sent0_targ: <sos><sos> and  god  gave  the  dry  land  the  name  of  earth ;  and  the  waters  together  in  their  place  were  named  seas :  and  god  saw  that  it  was  good . <eos><eos><pad><pad><pad><pad><pad><pad><pad><pad><pad><pad><pad><pad><pad><pad><pad><pad><pad><pad><pad>\n",
            "              sent1:  and  god  called  the  dry  land  earth ,  and  the <unk> of  waters  he  called  seas :  and  god  saw  that  it  was  good . <pad><pad><pad><pad><pad><pad><pad><pad><pad><pad><pad><pad><pad><pad><pad><pad><pad><pad><pad><pad><pad><pad><pad><pad><pad>\n",
            "              sentX:  and  god  gave  the  dry  land  the  name  of  earth ;  and  the  waters  together  in  their  place  were  named  seas :  and  god  saw  that  it  was  good . <pad><pad><pad><pad><pad><pad><pad><pad><pad><pad><pad><pad><pad><pad><pad><pad><pad><pad><pad><pad><pad><pad><pad><pad><pad><pad><pad><pad><pad><pad><pad><pad><pad><pad><pad><pad><pad><pad><pad><pad><pad><pad><pad><pad><pad><pad><pad><pad><pad><pad><pad><pad><pad><pad><pad><pad><pad><pad><pad><pad>\n",
            "recon_sem0_sty0:[TF=0] <sos> and  the  lord  said  to  moses ,  and  the  lord  said  to  moses ,  and  the  lord ,  and  the  lord ,  and  the  lord ,  and  the  lord \n",
            "recon_semX_sty0:[TF=0] <sos> and  the  lord  said  to  moses ,  and  the  lord  said  to  moses ,  and  the  lord ,  and  the  lord ,  and  the  lord ,  and  the  lord \n",
            "recon_semX_sty1:[TF=0] <sos> and  the  lord  said  to  moses ,  and  the  lord  said  to  moses ,  and  the  lord ,  and  the  lord ,  and  the  lord ,  and  the  lord \n",
            "recon_semX_sty1:[TF=1] <sos> and  the  of  him  lord  of ,  lord  of  the ,  and  they  lord  of  the  the <unk>, <unk><unk>,  and  they  was  the  they  is  a . <eos><eos><eos> he  it . . . . . . . . . . . . . . . . \n",
            "\n",
            "              sent0:  and  god  said ,  let  the  waters  bring  forth <unk> the  moving <unk> that  hath  life ,  and <unk> that  may <unk> above  the  earth  in  the  open <unk> of  heaven . <pad><pad><pad><pad><pad><pad><pad><pad><pad><pad><pad><pad><pad><pad><pad><pad><pad>\n",
            "         sent0_targ: <sos><sos> and  god  said ,  let  the  waters  bring  forth <unk> the  moving <unk> that  hath  life ,  and <unk> that  may <unk> above  the  earth  in  the  open <unk> of  heaven . <eos><eos><pad><pad><pad><pad><pad><pad><pad><pad><pad><pad><pad><pad><pad><pad><pad><pad><pad>\n",
            "              sent1:  and  god  said ,  let  the  waters  be  full  of  living  things ,  and  let  birds  be  in  flight  over  the  earth  under  the <unk> of  heaven . <pad><pad><pad><pad><pad><pad><pad><pad><pad><pad><pad><pad><pad><pad><pad><pad><pad><pad><pad><pad><pad><pad>\n",
            "              sentX:  and  god  said ,  let  the  waters  bring  forth <unk> the  moving <unk> that  hath  life ,  and <unk> that  may <unk> above  the  earth  in  the  open <unk> of  heaven . <pad><pad><pad><pad><pad><pad><pad><pad><pad><pad><pad><pad><pad><pad><pad><pad><pad><pad><pad><pad><pad><pad><pad><pad><pad><pad><pad><pad><pad><pad><pad><pad><pad><pad><pad><pad><pad><pad><pad><pad><pad><pad><pad><pad><pad><pad><pad><pad><pad><pad><pad><pad><pad><pad><pad><pad><pad><pad>\n",
            "recon_sem0_sty0:[TF=0] <sos> and  the  lord  said  to  moses ,  let  him  be <unk>,  and  the <unk> of  the <unk> of  the <unk> of  the <unk> of  the <unk> of  the \n",
            "recon_semX_sty0:[TF=0] <sos> and  the  lord  said  to  moses ,  let  him  be <unk>,  and  the <unk> of  the <unk> of  the <unk> of  the <unk> of  the <unk> of  the \n",
            "recon_semX_sty1:[TF=0] <sos> and  the  lord  said  to  moses ,  let  him  be <unk>,  and  the <unk> of  the <unk> of  the <unk> of  the <unk>. <eos><eos><eos><eos>\n",
            "recon_semX_sty1:[TF=1] <sos> and  the  is  to  the  him  lord  of  the  the , <unk> of ,  the <unk>,  and <unk>, <unk> be  the  the <unk>,  the <unk> of .  the . <eos><eos><eos><eos> it . . . . . . . . . . . . . . \n"
          ],
          "name": "stdout"
        },
        {
          "output_type": "stream",
          "text": [
            "07:34:44 INFO:[01] train rec loss: 3.0827 | sim loss: 0.0000 | anti_disc_loss: 0.0004 || scene disc 0.6920 55.575% \n",
            "07:37:08 INFO:[02] train rec loss: 2.8216 | sim loss: 0.0000 | anti_disc_loss: 0.0009 || scene disc 0.6898 60.350% \n",
            "07:39:30 INFO:[03] train rec loss: 2.6476 | sim loss: 0.0000 | anti_disc_loss: 0.0015 || scene disc 0.6877 64.544% \n",
            "07:41:50 INFO:[04] train rec loss: 2.5034 | sim loss: 0.0000 | anti_disc_loss: 0.0024 || scene disc 0.6856 66.200% \n",
            "07:44:10 INFO:[05] train rec loss: 2.3950 | sim loss: 0.0000 | anti_disc_loss: 0.0040 || scene disc 0.6827 67.162% \n",
            "07:46:31 INFO:[06] train rec loss: 2.3277 | sim loss: 0.0000 | anti_disc_loss: 0.0068 || scene disc 0.6795 67.394% \n",
            "07:48:52 INFO:[07] train rec loss: 2.2348 | sim loss: 0.0000 | anti_disc_loss: 0.0114 || scene disc 0.6772 66.206% \n",
            "07:51:13 INFO:[08] train rec loss: 2.1899 | sim loss: 0.0000 | anti_disc_loss: 0.0151 || scene disc 0.6736 67.487% \n",
            "07:53:36 INFO:[09] train rec loss: 2.1304 | sim loss: 0.0000 | anti_disc_loss: 0.0202 || scene disc 0.6697 68.575% \n"
          ],
          "name": "stderr"
        },
        {
          "output_type": "stream",
          "text": [
            "lr 0.0001 0.5\n"
          ],
          "name": "stdout"
        },
        {
          "output_type": "stream",
          "text": [
            "07:55:57 INFO:[10] train rec loss: 2.0216 | sim loss: 0.0000 | anti_disc_loss: 0.0517 || scene disc 0.6481 73.356% \n",
            "07:57:04 INFO:[10] eval rec loss: 2.2967 | sim loss: 0.0000 | anti_disc_loss: 0.0755 || scene disc 0.6296 76.927% \n"
          ],
          "name": "stderr"
        },
        {
          "output_type": "stream",
          "text": [
            "\n",
            "              sent0:  and  god  called  the  dry  land  earth ,  and  the <unk> of  waters  he  called  seas :  and  god  saw  that  it  was  good . <pad><pad><pad><pad><pad><pad><pad><pad><pad><pad><pad><pad><pad><pad><pad><pad><pad><pad><pad><pad><pad><pad><pad><pad>\n",
            "         sent0_targ: <sos><sos> and  god  called  the  dry  land  earth ,  and  the <unk> of  waters  he  called  seas :  and  god  saw  that  it  was  good . <eos><eos><pad><pad><pad><pad><pad><pad><pad><pad><pad><pad><pad><pad><pad><pad><pad><pad><pad><pad><pad><pad><pad><pad><pad><pad>\n",
            "              sent1:  and  god  gave  the  dry  land  the  name  of  earth ;  and  the  waters  together  in  their  place  were  named  seas :  and  god  saw  that  it  was  good . <pad><pad><pad><pad><pad><pad><pad><pad><pad><pad><pad><pad><pad><pad><pad><pad><pad><pad><pad><pad>\n",
            "              sentX:  there  shall  not  a  hand  touch  it ,  but  he  shall  surely  be  stoned  or <unk> through :  whether  it  be  beast  or  man ,  it  shall  not  live :  when  the  trumpet <unk> long ,  they  shall  come  up  to  the  mount . <pad><pad><pad><pad><pad>\n",
            "recon_sem0_sty0:[TF=0] <sos> and  god  gave  the  earth  to  the  earth ,  and  the  god  of  jacob  had  a  great  fear  of  god :  and  he  made  an  agreement  with  god . \n",
            "recon_semX_sty0:[TF=0] <sos> and  he  will  not  be  like  the <unk> of  the  earth ,  and  the  moon  will  be  like  a  man  of  war ;  and  they  will  be  like  a \n",
            "recon_semX_sty1:[TF=0] <sos> and  he  will  not  give  the  vine - garden  in  the  earth ;  and  the  beast  of  the  earth  will  be  shaking  with  fear  in  the  earth ,  and \n",
            "recon_semX_sty1:[TF=1] <sos> and  he  will  the <unk> land , ,  and  the <unk> of  the  will  will  the ;  for  the  will  that  the  is  not . <eos><eos><eos><eos> the  the  in  in . . . . . . . . . . . . . . . . . . \n",
            "\n",
            "              sent0:  and  god  said ,  let  the  waters  bring  forth <unk> the  moving <unk> that  hath  life ,  and <unk> that  may <unk> above  the  earth  in  the  open <unk> of  heaven . <pad><pad><pad><pad><pad><pad><pad><pad><pad><pad><pad><pad><pad><pad><pad><pad><pad>\n",
            "         sent0_targ: <sos><sos> and  god  said ,  let  the  waters  bring  forth <unk> the  moving <unk> that  hath  life ,  and <unk> that  may <unk> above  the  earth  in  the  open <unk> of  heaven . <eos><eos><pad><pad><pad><pad><pad><pad><pad><pad><pad><pad><pad><pad><pad><pad><pad><pad><pad>\n",
            "              sent1:  and  god  said ,  let  the  waters  be  full  of  living  things ,  and  let  birds  be  in  flight  over  the  earth  under  the <unk> of  heaven . <pad><pad><pad><pad><pad><pad><pad><pad><pad><pad><pad><pad><pad><pad><pad><pad><pad><pad><pad><pad><pad><pad>\n",
            "              sentX:  but  the <unk> dwelt  in <unk>:  and <unk> and <unk> were  over  the <unk>. <pad><pad><pad><pad><pad><pad><pad><pad><pad><pad><pad><pad><pad><pad><pad><pad><pad><pad><pad><pad><pad><pad><pad><pad><pad><pad><pad><pad><pad><pad><pad><pad><pad>\n",
            "recon_sem0_sty0:[TF=0] <sos> and  god  said ,  let  the <unk> be <unk> down ,  and  the  earth <unk> down  the  earth ;  and  the  earth <unk> the  earth  in  the  earth . \n",
            "recon_semX_sty0:[TF=0] <sos> but <unk> and <unk>-<unk> and  the <unk> was <unk> with <unk>. <eos><eos><eos><eos><eos><eos><eos><eos><eos><eos><eos><eos><eos><eos><eos>\n",
            "recon_semX_sty1:[TF=0] <sos> but  the <unk> made <unk> and <unk> and <unk> and  the <unk> was  put  to  death . <eos><eos><eos><eos><eos><eos><eos><eos><eos><eos><eos><eos>\n",
            "recon_semX_sty1:[TF=1] <sos> but  let  gave  to  the  the  ark  be  up  the  and <unk> of .  god  been .  and  the  the  the  be  the  the <unk>.  the  eyes  country .  the . <eos><eos><eos><eos> the  in . . . . . . . . . . . . . \n"
          ],
          "name": "stdout"
        },
        {
          "output_type": "stream",
          "text": [
            "07:59:25 INFO:[11] train rec loss: 2.0428 | sim loss: 0.0000 | anti_disc_loss: 0.0954 || scene disc 0.6317 74.537% \n",
            "08:01:45 INFO:[12] train rec loss: 2.0705 | sim loss: 0.0000 | anti_disc_loss: 0.1211 || scene disc 0.6302 72.869% \n",
            "08:04:08 INFO:[13] train rec loss: 2.0890 | sim loss: 0.0000 | anti_disc_loss: 0.1557 || scene disc 0.6305 71.025% \n",
            "08:06:31 INFO:[14] train rec loss: 2.1026 | sim loss: 0.0000 | anti_disc_loss: 0.1802 || scene disc 0.6418 66.912% \n",
            "08:08:52 INFO:[15] train rec loss: 2.1098 | sim loss: 0.0000 | anti_disc_loss: 0.1975 || scene disc 0.6438 65.675% \n",
            "08:11:12 INFO:[16] train rec loss: 2.1223 | sim loss: 0.0000 | anti_disc_loss: 0.2283 || scene disc 0.6429 65.775% \n",
            "08:13:32 INFO:[17] train rec loss: 2.1282 | sim loss: 0.0000 | anti_disc_loss: 0.2224 || scene disc 0.6446 64.950% \n",
            "08:15:52 INFO:[18] train rec loss: 2.1230 | sim loss: 0.0000 | anti_disc_loss: 0.2306 || scene disc 0.6487 64.125% \n",
            "08:18:14 INFO:[19] train rec loss: 2.1159 | sim loss: 0.0000 | anti_disc_loss: 0.2392 || scene disc 0.6456 64.550% \n"
          ],
          "name": "stderr"
        },
        {
          "output_type": "stream",
          "text": [
            "lr 0.00025 0.5\n"
          ],
          "name": "stdout"
        },
        {
          "output_type": "stream",
          "text": [
            "08:20:36 INFO:[20] train rec loss: 2.1255 | sim loss: 0.0000 | anti_disc_loss: 0.2730 || scene disc 0.6549 62.394% \n",
            "08:21:44 INFO:[20] eval rec loss: 2.4285 | sim loss: 0.0000 | anti_disc_loss: 0.1460 || scene disc 0.6448 66.662% \n"
          ],
          "name": "stderr"
        },
        {
          "output_type": "stream",
          "text": [
            "\n",
            "              sent0:  and  god  called  the  dry  land  earth ,  and  the <unk> of  waters  he  called  seas :  and  god  saw  that  it  was  good . <pad><pad><pad><pad><pad><pad><pad><pad><pad><pad><pad><pad><pad><pad><pad><pad><pad><pad><pad><pad><pad><pad><pad><pad><pad>\n",
            "         sent0_targ: <sos><sos> and  god  called  the  dry  land  earth ,  and  the <unk> of  waters  he  called  seas :  and  god  saw  that  it  was  good . <eos><eos><pad><pad><pad><pad><pad><pad><pad><pad><pad><pad><pad><pad><pad><pad><pad><pad><pad><pad><pad><pad><pad><pad><pad><pad><pad>\n",
            "              sent1:  and  god  gave  the  dry  land  the  name  of  earth ;  and  the  waters  together  in  their  place  were  named  seas :  and  god  saw  that  it  was  good . <pad><pad><pad><pad><pad><pad><pad><pad><pad><pad><pad><pad><pad><pad><pad><pad><pad><pad><pad>\n",
            "              sentX:  son  of  man ,  set  thy  face  against  the <unk>,  and  prophesy  against  them ; <pad><pad><pad><pad><pad><pad><pad><pad><pad><pad><pad><pad><pad><pad><pad><pad><pad><pad><pad><pad><pad><pad><pad><pad><pad><pad><pad><pad><pad><pad><pad><pad><pad><pad><pad><pad><pad>\n",
            "recon_sem0_sty0:[TF=0] <sos> and  god  gave  the  way  of  the  earth ,  and  the <unk> of  the  earth  was <unk>:  and  the <unk> of  the  earth  was  full  of <unk>. \n",
            "recon_semX_sty0:[TF=0] <sos> son  of  man ,  who  say ,  you  are  to  say ,  you  are <unk>,  and <unk>, <eos><eos><eos><eos><eos><eos><eos><eos><eos><eos>\n",
            "recon_semX_sty1:[TF=0] <sos> son  of  man ,  who  say ,  you  are  to  say ,  you  are  to  be  angry  with <unk>,  and <unk> your <unk>? <eos><eos><eos><eos>\n",
            "recon_semX_sty1:[TF=1] <sos> son <unk>,  you  son <unk>, , <unk> the <unk> of  the ,  will  his ; <eos> they  has  him  you  is <eos>. <eos><eos><eos><eos> you  to  to  to  to  to . . . . . . . . . . . . . . . . . \n",
            "\n",
            "              sent0:  and  god  said ,  let  the  waters  be  full  of  living  things ,  and  let  birds  be  in  flight  over  the  earth  under  the <unk> of  heaven . <pad><pad><pad><pad><pad><pad><pad><pad><pad><pad><pad><pad><pad><pad><pad><pad><pad><pad><pad><pad><pad><pad>\n",
            "         sent0_targ: <sos><sos> and  god  said ,  let  the  waters  be  full  of  living  things ,  and  let  birds  be  in  flight  over  the  earth  under  the <unk> of  heaven . <eos><eos><pad><pad><pad><pad><pad><pad><pad><pad><pad><pad><pad><pad><pad><pad><pad><pad><pad><pad><pad><pad><pad><pad>\n",
            "              sent1:  and  god  said ,  let  the  waters  bring  forth <unk> the  moving <unk> that  hath  life ,  and <unk> that  may <unk> above  the  earth  in  the  open <unk> of  heaven . <pad><pad><pad><pad><pad><pad><pad><pad><pad><pad><pad><pad><pad><pad><pad><pad><pad>\n",
            "              sentX:  and  god  said ,  let  the  waters  be  full  of  living  things ,  and  let  birds  be  in  flight  over  the  earth  under  the <unk> of  heaven . <pad><pad><pad><pad><pad><pad><pad><pad><pad><pad><pad><pad><pad><pad><pad><pad><pad><pad><pad><pad><pad><pad><pad><pad><pad>\n",
            "recon_sem0_sty0:[TF=0] <sos> and  god  said ,  the  lord  is <unk>,  and  the <unk> of  the  earth  is <unk>,  and  the <unk> of  the  earth  is <unk>. <eos><eos>\n",
            "recon_semX_sty0:[TF=0] <sos> and  god  said ,  the  lord  is <unk>,  and  the <unk> of  the  earth  is <unk>,  and  the <unk> of  the  earth  is <unk>. <eos><eos>\n",
            "recon_semX_sty1:[TF=0] <sos> and  god  said ,  the  lord  is <unk>,  and  the <unk> of  the  earth  is <unk>,  and  the <unk> of  the  earth  is <unk>. <eos><eos>\n",
            "recon_semX_sty1:[TF=1] <sos> and  god  said ,  the  us  earth  be <unk> of  the <unk>,  and  the  them  be <unk> the :  the <unk>:  the <unk> of  the . <eos><eos><eos> ye  ye  from  from  from  to  to . . . . . . . . . . . . . . \n"
          ],
          "name": "stdout"
        },
        {
          "output_type": "stream",
          "text": [
            "08:24:08 INFO:[21] train rec loss: 2.1041 | sim loss: 0.0000 | anti_disc_loss: 0.3444 || scene disc 0.6691 60.487% \n",
            "08:26:29 INFO:[22] train rec loss: 2.0961 | sim loss: 0.0000 | anti_disc_loss: 0.1525 || scene disc 0.6584 63.400% \n",
            "08:28:50 INFO:[23] train rec loss: 2.0768 | sim loss: 0.0000 | anti_disc_loss: 0.1428 || scene disc 0.6609 63.413% \n",
            "08:31:09 INFO:[24] train rec loss: 2.0691 | sim loss: 0.0000 | anti_disc_loss: 0.1902 || scene disc 0.6803 57.638% \n",
            "08:33:29 INFO:[25] train rec loss: 2.0602 | sim loss: 0.0000 | anti_disc_loss: 0.0925 || scene disc 0.6753 59.694% \n",
            "08:35:49 INFO:[26] train rec loss: 2.0299 | sim loss: 0.0000 | anti_disc_loss: 0.0909 || scene disc 0.6709 61.231% \n",
            "08:38:11 INFO:[27] train rec loss: 2.0258 | sim loss: 0.0000 | anti_disc_loss: 0.1545 || scene disc 0.6768 58.594% \n",
            "08:40:32 INFO:[28] train rec loss: 2.0016 | sim loss: 0.0000 | anti_disc_loss: 0.2298 || scene disc 0.6829 55.087% \n",
            "08:42:54 INFO:[29] train rec loss: 1.9867 | sim loss: 0.0000 | anti_disc_loss: 0.1024 || scene disc 0.6777 58.531% \n"
          ],
          "name": "stderr"
        },
        {
          "output_type": "stream",
          "text": [
            "training loop done\n"
          ],
          "name": "stdout"
        }
      ]
    },
    {
      "metadata": {
        "id": "km3ZdwWlaSm8",
        "colab_type": "code",
        "colab": {
          "base_uri": "https://localhost:8080/",
          "height": 2734
        },
        "outputId": "8c0506ca-6814-49a4-9ac5-c81b6a244ff0"
      },
      "cell_type": "code",
      "source": [
        "bucket_iter_train, bucket_iter_val, models= train_main( get_options(True),bucket_iter_train, bucket_iter_val, models )\n"
      ],
      "execution_count": 8,
      "outputs": [
        {
          "output_type": "stream",
          "text": [
            "running train with options: Namespace(adv_disc_lr=0.01, batch_size=32, beta1=0.5, epoch_size=500, epocs=100, lr=0.001, max_sent_len=30, optimizer='adam', sd_weight=10.0, sem_sim_weight=0.0, semantics_dim=256, style_dim=100)\n",
            "lr 0.001 0.5\n"
          ],
          "name": "stdout"
        },
        {
          "output_type": "stream",
          "text": [
            "11:42:11 INFO:[00] train rec loss: 1.6490 | sim loss: 0.0000 | anti_disc_loss: 0.2880 || scene disc 0.6860 55.288% \n",
            "11:43:18 INFO:[00] eval rec loss: 2.3861 | sim loss: 0.0000 | anti_disc_loss: 0.1924 || scene disc 0.6894 52.354% \n"
          ],
          "name": "stderr"
        },
        {
          "output_type": "stream",
          "text": [
            "\n",
            "              sent0:  and  god  gave  the  dry  land  the  name  of  earth ;  and  the  waters  together  in  their  place  were  named  seas :  and  god  saw  that  it  was  good . <pad><pad><pad><pad><pad><pad><pad><pad><pad><pad><pad><pad><pad><pad><pad><pad><pad><pad><pad><pad>\n",
            "         sent0_targ: <sos><sos> and  god  gave  the  dry  land  the  name  of  earth ;  and  the  waters  together  in  their  place  were  named  seas :  and  god  saw  that  it  was  good . <eos><eos><pad><pad><pad><pad><pad><pad><pad><pad><pad><pad><pad><pad><pad><pad><pad><pad><pad><pad><pad><pad>\n",
            "              sent1:  and  god  called  the  dry  land  earth ,  and  the <unk> of  waters  he  called  seas :  and  god  saw  that  it  was  good . <pad><pad><pad><pad><pad><pad><pad><pad><pad><pad><pad><pad><pad><pad><pad><pad><pad><pad><pad><pad><pad><pad><pad><pad>\n",
            "              sentX:  o <unk>,  if  you  took  note  of  every  sin ,  who  would  go  free ? <pad><pad><pad><pad><pad><pad><pad><pad><pad><pad><pad><pad><pad><pad><pad><pad><pad><pad><pad><pad><pad><pad><pad><pad><pad><pad><pad><pad><pad><pad><pad><pad><pad><pad>\n",
            "recon_sem0_sty0:[TF=0] <sos> and  god <unk> the  earth ,  and  gave  thanks  to  god :  and  the <unk> of  the  earth  was <unk>. <eos><eos><eos><eos><eos><eos><eos><eos>\n",
            "recon_semX_sty0:[TF=0] <sos> o  lord ,  who  is <unk>,  that  is  in  thy  heart ,  that  thou  shouldst  be <unk>? <eos><eos><eos><eos><eos><eos><eos><eos><eos><eos>\n",
            "recon_semX_sty1:[TF=0] <sos> o  lord ,  who  is <unk>,  that  is  in  thy  heart ,  that  thou  shouldst  be <unk>? <eos><eos><eos><eos><eos><eos><eos><eos><eos><eos>\n",
            "recon_semX_sty1:[TF=1] <sos> o  if ,  us <unk><unk>, <unk> of <unk>, <eos> if <unk> that  that  a  hearts . <unk>. . <eos> if ,  that  it  is  not . <eos><eos><eos><eos> ye  ye  by  by  by  by  by . . . . . . . . . . . \n",
            "\n",
            "              sent0:  and  god  said ,  let  the  waters  bring  forth <unk> the  moving <unk> that  hath  life ,  and <unk> that  may <unk> above  the  earth  in  the  open <unk> of  heaven . <pad><pad><pad><pad><pad><pad><pad><pad><pad><pad><pad><pad><pad><pad><pad><pad><pad><pad>\n",
            "         sent0_targ: <sos><sos> and  god  said ,  let  the  waters  bring  forth <unk> the  moving <unk> that  hath  life ,  and <unk> that  may <unk> above  the  earth  in  the  open <unk> of  heaven . <eos><eos><pad><pad><pad><pad><pad><pad><pad><pad><pad><pad><pad><pad><pad><pad><pad><pad><pad><pad>\n",
            "              sent1:  and  god  said ,  let  the  waters  be  full  of  living  things ,  and  let  birds  be  in  flight  over  the  earth  under  the <unk> of  heaven . <pad><pad><pad><pad><pad><pad><pad><pad><pad><pad><pad><pad><pad><pad><pad><pad><pad><pad><pad><pad><pad>\n",
            "              sentX:  and  god  said ,  let  the  waters  bring  forth <unk> the  moving <unk> that  hath  life ,  and <unk> that  may <unk> above  the  earth  in  the  open <unk> of  heaven . <pad><pad><pad><pad><pad><pad><pad><pad><pad><pad><pad><pad><pad><pad><pad><pad><pad><pad>\n",
            "recon_sem0_sty0:[TF=0] <sos> and  god  said ,  let  the  waters  come  down ,  and  the  earth  is  under  heaven ,  and  the  earth  is  under  heaven . <eos><eos><eos><eos><eos>\n",
            "recon_semX_sty0:[TF=0] <sos> and  god  said ,  let  the  waters  come  down ,  and  the  earth  is  under  heaven ,  and  the  earth  is  under  heaven . <eos><eos><eos><eos><eos>\n",
            "recon_semX_sty1:[TF=0] <sos> and  god  said ,  let  the  waters  come  down ,  and  the  earth  is  under  heaven ,  and  the  earth  is  under  heaven . <eos><eos><eos><eos><eos>\n",
            "recon_semX_sty1:[TF=1] <sos> and  god  said ,  let  the  waters  come  down  the ,  earth , ,  the  come ,  and  the  in  the  be  be  the  earth ,  the  earth  space .  the . <eos><eos><eos> peter  the  the  the  in  in  in  in . . . . . . . . . \n"
          ],
          "name": "stdout"
        },
        {
          "output_type": "stream",
          "text": [
            "11:45:42 INFO:[01] train rec loss: 1.6735 | sim loss: 0.0000 | anti_disc_loss: 0.2138 || scene disc 0.6855 54.513% \n",
            "11:48:04 INFO:[02] train rec loss: 1.6777 | sim loss: 0.0000 | anti_disc_loss: 0.1129 || scene disc 0.6880 53.975% \n",
            "11:50:25 INFO:[03] train rec loss: 1.6806 | sim loss: 0.0000 | anti_disc_loss: 0.0764 || scene disc 0.6840 56.244% \n",
            "11:52:47 INFO:[04] train rec loss: 1.6790 | sim loss: 0.0000 | anti_disc_loss: 0.0950 || scene disc 0.6866 54.969% \n",
            "11:55:09 INFO:[05] train rec loss: 1.6793 | sim loss: 0.0000 | anti_disc_loss: 0.1013 || scene disc 0.6890 53.444% \n",
            "11:57:31 INFO:[06] train rec loss: 1.6659 | sim loss: 0.0000 | anti_disc_loss: 0.1624 || scene disc 0.6901 53.300% \n",
            "11:59:54 INFO:[07] train rec loss: 1.6635 | sim loss: 0.0000 | anti_disc_loss: 0.0727 || scene disc 0.6868 55.256% \n",
            "12:02:14 INFO:[08] train rec loss: 1.6569 | sim loss: 0.0000 | anti_disc_loss: 0.0850 || scene disc 0.6887 53.850% \n",
            "12:04:34 INFO:[09] train rec loss: 1.6461 | sim loss: 0.0000 | anti_disc_loss: 0.0874 || scene disc 0.6872 54.925% \n",
            "12:06:54 INFO:[10] train rec loss: 1.6492 | sim loss: 0.0000 | anti_disc_loss: 0.0520 || scene disc 0.6857 55.625% \n",
            "12:08:02 INFO:[10] eval rec loss: 2.4046 | sim loss: 0.0000 | anti_disc_loss: 0.0161 || scene disc 0.6853 58.107% \n"
          ],
          "name": "stderr"
        },
        {
          "output_type": "stream",
          "text": [
            "\n",
            "              sent0:  and  god  gave  the  dry  land  the  name  of  earth ;  and  the  waters  together  in  their  place  were  named  seas :  and  god  saw  that  it  was  good . <pad><pad><pad><pad><pad><pad><pad><pad><pad><pad><pad><pad><pad><pad><pad><pad><pad><pad><pad><pad>\n",
            "         sent0_targ: <sos><sos> and  god  gave  the  dry  land  the  name  of  earth ;  and  the  waters  together  in  their  place  were  named  seas :  and  god  saw  that  it  was  good . <eos><eos><pad><pad><pad><pad><pad><pad><pad><pad><pad><pad><pad><pad><pad><pad><pad><pad><pad><pad><pad><pad>\n",
            "              sent1:  and  god  called  the  dry  land  earth ,  and  the <unk> of  waters  he  called  seas :  and  god  saw  that  it  was  good . <pad><pad><pad><pad><pad><pad><pad><pad><pad><pad><pad><pad><pad><pad><pad><pad><pad><pad><pad><pad><pad><pad><pad><pad>\n",
            "              sentX:  then  take  the <unk> and  put  the  oil  on  his  head ,  and  say ,  the  lord  says ,  i  have  put  the  holy  oil  on  you  to  make  you  king  over  israel .  then ,  opening  the  door ,  go  in  flight ,  without  waiting . <pad><pad><pad><pad><pad><pad><pad><pad><pad><pad><pad><pad><pad><pad><pad><pad><pad><pad><pad><pad><pad><pad><pad>\n",
            "recon_sem0_sty0:[TF=0] <sos> and  god  spoke  to  the  god  of  the  waters  that  was  made  bright ,  and  it  was <unk> to  the  earth :  and  it  was  a  god ,  and \n",
            "recon_semX_sty0:[TF=0] <sos> then  shalt  thou  therefore <unk> the <unk>,  and <unk> the <unk>,  and <unk> the <unk>,  and  the <unk>,  and  the <unk>,  and  the <unk>\n",
            "recon_semX_sty1:[TF=0] <sos> then  shalt  thou  therefore <unk> the <unk>,  and <unk> the <unk>,  and <unk> the <unk>,  and  the <unk>,  and  the <unk>,  and  the <unk>\n",
            "recon_semX_sty1:[TF=1] <sos> then  thou ,  the <unk><unk>, <unk> of  the ,  and  behold  lord  that ,  the  hearts , <unk>, ,  and  if  will  that  none  is  not ,  and <eos><eos> then  he  in  in  in  in  in  in  in  he  he  he  he  he . . . . . \n",
            "\n",
            "              sent0:  and  god  said ,  let  the  waters  bring  forth <unk> the  moving <unk> that  hath  life ,  and <unk> that  may <unk> above  the  earth  in  the  open <unk> of  heaven . <pad><pad><pad><pad><pad><pad><pad><pad><pad><pad><pad><pad><pad><pad><pad><pad><pad><pad>\n",
            "         sent0_targ: <sos><sos> and  god  said ,  let  the  waters  bring  forth <unk> the  moving <unk> that  hath  life ,  and <unk> that  may <unk> above  the  earth  in  the  open <unk> of  heaven . <eos><eos><pad><pad><pad><pad><pad><pad><pad><pad><pad><pad><pad><pad><pad><pad><pad><pad><pad><pad>\n",
            "              sent1:  and  god  said ,  let  the  waters  be  full  of  living  things ,  and  let  birds  be  in  flight  over  the  earth  under  the <unk> of  heaven . <pad><pad><pad><pad><pad><pad><pad><pad><pad><pad><pad><pad><pad><pad><pad><pad><pad><pad><pad><pad><pad>\n",
            "              sentX:  my  son ,  walk  not  thou  in  the  way  with  them ; <unk> thy  foot  from  their <unk>: <pad><pad><pad><pad><pad><pad><pad><pad><pad><pad><pad><pad><pad><pad><pad><pad><pad><pad><pad><pad><pad><pad><pad><pad><pad><pad><pad><pad><pad><pad><pad><pad><pad><pad><pad><pad><pad><pad><pad><pad><pad><pad><pad><pad><pad><pad><pad><pad><pad><pad><pad>\n",
            "recon_sem0_sty0:[TF=0] <sos> and  god  said ,  let  not  the  earth  be  put  to  death ,  than  the  angels  of  heaven ,  and  the  earth  is  shaking  with  fear  because  of  the \n",
            "recon_semX_sty0:[TF=0] <sos> my  son ,  keep  them  in  your  way ;  they  have  not  given  you ,  they  go  after  them ; <eos><eos><eos><eos><eos><eos><eos><eos><eos>\n",
            "recon_semX_sty1:[TF=0] <sos> my  son ,  keep  them  in  your  way ;  they  have  not  given  you ,  they  go  after  them ; <eos><eos><eos><eos><eos><eos><eos><eos><eos>\n",
            "recon_semX_sty1:[TF=1] <sos> my  my , ,  go  your <unk> go  you  their , <unk> of  you  they  not ;  and  not  not  they  not  them  their <unk>.  their  way  country  of  their . <eos><eos><eos> then  them  by  by  by  by  by  as  as  as  as  as  as  as  as  as  as \n"
          ],
          "name": "stdout"
        },
        {
          "output_type": "stream",
          "text": [
            "12:10:26 INFO:[11] train rec loss: 1.6372 | sim loss: 0.0000 | anti_disc_loss: 0.0379 || scene disc 0.6859 56.156% \n",
            "12:12:48 INFO:[12] train rec loss: 1.6364 | sim loss: 0.0000 | anti_disc_loss: 0.0637 || scene disc 0.6871 55.175% \n",
            "12:15:10 INFO:[13] train rec loss: 1.6291 | sim loss: 0.0000 | anti_disc_loss: 0.0329 || scene disc 0.6865 55.925% \n",
            "12:17:32 INFO:[14] train rec loss: 1.6311 | sim loss: 0.0000 | anti_disc_loss: 0.0429 || scene disc 0.6879 54.612% \n",
            "12:19:57 INFO:[15] train rec loss: 1.6210 | sim loss: 0.0000 | anti_disc_loss: 0.0874 || scene disc 0.6882 54.100% \n",
            "12:22:22 INFO:[16] train rec loss: 1.6222 | sim loss: 0.0000 | anti_disc_loss: 0.1166 || scene disc 0.6901 52.594% \n",
            "12:24:43 INFO:[17] train rec loss: 1.6076 | sim loss: 0.0000 | anti_disc_loss: 0.0859 || scene disc 0.6883 54.163% \n",
            "12:27:05 INFO:[18] train rec loss: 1.6019 | sim loss: 0.0000 | anti_disc_loss: 0.0686 || scene disc 0.6856 55.487% \n",
            "12:29:25 INFO:[19] train rec loss: 1.6008 | sim loss: 0.0000 | anti_disc_loss: 0.0540 || scene disc 0.6863 54.987% \n",
            "12:31:45 INFO:[20] train rec loss: 1.6025 | sim loss: 0.0000 | anti_disc_loss: 0.0347 || scene disc 0.6873 55.156% \n",
            "12:32:49 INFO:[20] eval rec loss: 2.4230 | sim loss: 0.0000 | anti_disc_loss: 0.0202 || scene disc 0.6869 53.979% \n"
          ],
          "name": "stderr"
        },
        {
          "output_type": "stream",
          "text": [
            "\n",
            "              sent0:  and  god  gave  the  dry  land  the  name  of  earth ;  and  the  waters  together  in  their  place  were  named  seas :  and  god  saw  that  it  was  good . <pad><pad><pad><pad><pad><pad><pad><pad><pad><pad><pad><pad><pad><pad><pad><pad><pad><pad><pad><pad>\n",
            "         sent0_targ: <sos><sos> and  god  gave  the  dry  land  the  name  of  earth ;  and  the  waters  together  in  their  place  were  named  seas :  and  god  saw  that  it  was  good . <eos><eos><pad><pad><pad><pad><pad><pad><pad><pad><pad><pad><pad><pad><pad><pad><pad><pad><pad><pad><pad><pad>\n",
            "              sent1:  and  god  called  the  dry  land  earth ,  and  the <unk> of  waters  he  called  seas :  and  god  saw  that  it  was  good . <pad><pad><pad><pad><pad><pad><pad><pad><pad><pad><pad><pad><pad><pad><pad><pad><pad><pad><pad><pad><pad><pad><pad><pad>\n",
            "              sentX:  and  god  gave  the  dry  land  the  name  of  earth ;  and  the  waters  together  in  their  place  were  named  seas :  and  god  saw  that  it  was  good . <pad><pad><pad><pad><pad><pad><pad><pad><pad><pad><pad><pad><pad><pad><pad><pad><pad><pad><pad><pad><pad><pad><pad><pad><pad><pad><pad><pad><pad><pad><pad><pad><pad><pad><pad><pad><pad><pad><pad>\n",
            "recon_sem0_sty0:[TF=0] <sos> and  god  called  the  earth  a <unk>,  and  called  its  name :  and  it  was <unk> to  the  earth ;  it  was  good  for  the  kingdom  of  god \n",
            "recon_semX_sty0:[TF=0] <sos> and  god  called  the  earth  a <unk>,  and  called  its  name :  and  it  was <unk> to  the  earth ;  it  was  good  for  the  kingdom  of  god \n",
            "recon_semX_sty1:[TF=0] <sos> and  god  called  the  earth  a <unk>,  and  called  its  name :  and  it  was <unk> to  the  earth ,  and  it  became  a <unk>:  and  god \n",
            "recon_semX_sty1:[TF=1] <sos> and  god  called  the <unk> land  for <unk> of  the ,  and  it  waters  were  was  the  place , <unk><unk>;  and  god  made  that  it  was  good . <eos><eos><eos> also  the  he  he  he  he  he  he  he . . . . . . . . . . \n",
            "\n",
            "              sent0:  and  god  said ,  let  the  waters  bring  forth <unk> the  moving <unk> that  hath  life ,  and <unk> that  may <unk> above  the  earth  in  the  open <unk> of  heaven . <pad><pad><pad><pad><pad><pad><pad><pad><pad><pad><pad><pad><pad><pad><pad><pad><pad><pad>\n",
            "         sent0_targ: <sos><sos> and  god  said ,  let  the  waters  bring  forth <unk> the  moving <unk> that  hath  life ,  and <unk> that  may <unk> above  the  earth  in  the  open <unk> of  heaven . <eos><eos><pad><pad><pad><pad><pad><pad><pad><pad><pad><pad><pad><pad><pad><pad><pad><pad><pad><pad>\n",
            "              sent1:  and  god  said ,  let  the  waters  be  full  of  living  things ,  and  let  birds  be  in  flight  over  the  earth  under  the <unk> of  heaven . <pad><pad><pad><pad><pad><pad><pad><pad><pad><pad><pad><pad><pad><pad><pad><pad><pad><pad><pad><pad><pad>\n",
            "              sentX:  if  now  thou  hast  understanding ,  hear  this :  hearken  to  the  voice  of  my  words . <pad><pad><pad><pad><pad><pad><pad><pad><pad><pad><pad><pad><pad><pad><pad><pad><pad><pad><pad><pad><pad><pad><pad><pad><pad><pad><pad><pad><pad><pad><pad><pad><pad><pad><pad><pad><pad><pad><pad><pad><pad><pad><pad><pad><pad><pad><pad><pad><pad><pad><pad><pad>\n",
            "recon_sem0_sty0:[TF=0] <sos> and  god  said ,  let  the  earth  be  covered  with  the  curse ,  o  lord ,  and  let  us  be  living  in  the  earth  in  the  heavens . <eos>\n",
            "recon_semX_sty0:[TF=0] <sos> if  this  is  my  words ,  give  ear  to  my  words ;  say ,  i  have  knowledge  of  it . <eos><eos><eos><eos><eos><eos><eos><eos><eos>\n",
            "recon_semX_sty1:[TF=0] <sos> if  this  is  my  words ,  give  ear  to  my  words ;  say ,  i  have  knowledge  of  it . <eos><eos><eos><eos><eos><eos><eos><eos><eos>\n",
            "recon_semX_sty1:[TF=1] <sos> if  this  has ,  give  my  words  come  note  my  ears  words . .  i  sent .  and  i  my  i  come .  my  words .  my  hearing  words .  my . <eos><eos><eos> then  this  in  in  in  in  in  before . . . . . . . . . \n"
          ],
          "name": "stdout"
        },
        {
          "output_type": "stream",
          "text": [
            "12:35:09 INFO:[21] train rec loss: 1.6017 | sim loss: 0.0000 | anti_disc_loss: 0.1289 || scene disc 0.6931 52.881% \n",
            "12:37:28 INFO:[22] train rec loss: 1.5965 | sim loss: 0.0000 | anti_disc_loss: 0.3258 || scene disc 0.7014 52.888% \n",
            "12:39:49 INFO:[23] train rec loss: 1.5857 | sim loss: 0.0000 | anti_disc_loss: 0.0773 || scene disc 0.6889 54.138% \n",
            "12:42:11 INFO:[24] train rec loss: 1.5844 | sim loss: 0.0000 | anti_disc_loss: 0.0328 || scene disc 0.6862 55.325% \n",
            "12:44:33 INFO:[25] train rec loss: 1.5768 | sim loss: 0.0000 | anti_disc_loss: 0.0236 || scene disc 0.6864 56.556% \n",
            "12:46:52 INFO:[26] train rec loss: 1.5698 | sim loss: 0.0000 | anti_disc_loss: 0.0246 || scene disc 0.6866 55.919% \n",
            "12:49:11 INFO:[27] train rec loss: 1.5678 | sim loss: 0.0000 | anti_disc_loss: 0.0252 || scene disc 0.6872 55.606% \n",
            "12:51:30 INFO:[28] train rec loss: 1.5569 | sim loss: 0.0000 | anti_disc_loss: 0.0215 || scene disc 0.6873 55.856% \n",
            "12:53:49 INFO:[29] train rec loss: 1.5616 | sim loss: 0.0000 | anti_disc_loss: 0.0255 || scene disc 0.6871 56.194% \n",
            "12:56:09 INFO:[30] train rec loss: 1.5603 | sim loss: 0.0000 | anti_disc_loss: 0.0343 || scene disc 0.6879 55.312% \n",
            "12:57:16 INFO:[30] eval rec loss: 2.4354 | sim loss: 0.0000 | anti_disc_loss: 0.0300 || scene disc 0.6874 53.812% \n"
          ],
          "name": "stderr"
        },
        {
          "output_type": "stream",
          "text": [
            "\n",
            "              sent0:  and  god  gave  the  dry  land  the  name  of  earth ;  and  the  waters  together  in  their  place  were  named  seas :  and  god  saw  that  it  was  good . <pad><pad><pad><pad><pad><pad><pad><pad><pad><pad><pad><pad><pad><pad><pad><pad><pad><pad><pad>\n",
            "         sent0_targ: <sos><sos> and  god  gave  the  dry  land  the  name  of  earth ;  and  the  waters  together  in  their  place  were  named  seas :  and  god  saw  that  it  was  good . <eos><eos><pad><pad><pad><pad><pad><pad><pad><pad><pad><pad><pad><pad><pad><pad><pad><pad><pad><pad><pad>\n",
            "              sent1:  and  god  called  the  dry  land  earth ,  and  the <unk> of  waters  he  called  seas :  and  god  saw  that  it  was  good . <pad><pad><pad><pad><pad><pad><pad><pad><pad><pad><pad><pad><pad><pad><pad><pad><pad><pad><pad><pad><pad><pad><pad><pad><pad>\n",
            "              sentX:  and  god  gave  the  dry  land  the  name  of  earth ;  and  the  waters  together  in  their  place  were  named  seas :  and  god  saw  that  it  was  good . <pad><pad><pad><pad><pad><pad><pad><pad><pad><pad><pad><pad><pad><pad><pad><pad><pad><pad><pad><pad><pad><pad><pad><pad><pad><pad><pad><pad><pad><pad><pad><pad><pad><pad><pad><pad><pad><pad>\n",
            "recon_sem0_sty0:[TF=0] <sos> and  god <unk> the  earth ,  and  made  it  a  rule  over  them :  and  the  glory  of  god  was  with  them ,  and  glorified  god . <eos><eos>\n",
            "recon_semX_sty0:[TF=0] <sos> and  god <unk> the  earth ,  and  made  it  a  rule  over  them :  and  the  glory  of  god  was  with  them ,  and  glorified  god . <eos><eos>\n",
            "recon_semX_sty1:[TF=0] <sos> and  god <unk> the  earth ,  and  made  it  a  rule  over  them :  and  the  glory  of  god  was  upon  them . <eos><eos><eos><eos><eos><eos>\n",
            "recon_semX_sty1:[TF=1] <sos> and  god <unk> the  waters  land  into  earth  of  the :  and  the  waters  were  was  the  waters ,  made <unk>.  and  god  saw  that  it  was  good . <eos><eos><eos> mercy  israel  in  in . . . . . . . . . . . . . . \n",
            "\n",
            "              sent0:  and  god  said ,  let  the  waters  be  full  of  living  things ,  and  let  birds  be  in  flight  over  the  earth  under  the <unk> of  heaven . <pad><pad><pad><pad><pad><pad><pad><pad><pad><pad><pad><pad><pad><pad><pad><pad><pad><pad><pad><pad><pad>\n",
            "         sent0_targ: <sos><sos> and  god  said ,  let  the  waters  be  full  of  living  things ,  and  let  birds  be  in  flight  over  the  earth  under  the <unk> of  heaven . <eos><eos><pad><pad><pad><pad><pad><pad><pad><pad><pad><pad><pad><pad><pad><pad><pad><pad><pad><pad><pad><pad><pad>\n",
            "              sent1:  and  god  said ,  let  the  waters  bring  forth <unk> the  moving <unk> that  hath  life ,  and <unk> that  may <unk> above  the  earth  in  the  open <unk> of  heaven . <pad><pad><pad><pad><pad><pad><pad><pad><pad><pad><pad><pad><pad><pad><pad><pad><pad><pad>\n",
            "              sentX:  and  god  said ,  let  the  waters  be  full  of  living  things ,  and  let  birds  be  in  flight  over  the  earth  under  the <unk> of  heaven . <pad><pad><pad><pad><pad><pad><pad><pad><pad><pad><pad><pad><pad><pad><pad><pad><pad><pad><pad><pad><pad><pad><pad><pad><pad><pad><pad><pad><pad><pad><pad><pad><pad><pad><pad><pad><pad><pad><pad><pad>\n",
            "recon_sem0_sty0:[TF=0] <sos> and  god  said ,  let  the  waters  come  upon  me ,  and  upon  the  earth ,  and  upon  the  ground ,  and  upon  the  ground ,  and  upon  the \n",
            "recon_semX_sty0:[TF=0] <sos> and  god  said ,  let  the  waters  come  upon  me ,  and  upon  the  earth ,  and  upon  the  ground ,  and  upon  the  ground ,  and  upon  the \n",
            "recon_semX_sty1:[TF=0] <sos> and  god  said ,  let  the  waters  come  upon  me ,  and  upon  the  earth ,  and  upon  the  ground ,  and  upon  the  ground ,  and  upon  the \n",
            "recon_semX_sty1:[TF=1] <sos> and  god  said ,  let  the  waters  come  upon  of <unk>, ,  and  pour  them  be <unk> the :  all  earth .  the  heaven .  the . <eos><eos><eos> in  the  in  in  in  in  in  in  in  in  in  in  in  in  in  in  in  in  in  in \n"
          ],
          "name": "stdout"
        },
        {
          "output_type": "stream",
          "text": [
            "12:59:37 INFO:[31] train rec loss: 1.5525 | sim loss: 0.0000 | anti_disc_loss: 0.0340 || scene disc 0.6870 55.131% \n",
            "01:01:56 INFO:[32] train rec loss: 1.5468 | sim loss: 0.0000 | anti_disc_loss: 0.0256 || scene disc 0.6872 55.531% \n",
            "01:04:15 INFO:[33] train rec loss: 1.5424 | sim loss: 0.0000 | anti_disc_loss: 0.0501 || scene disc 0.6877 55.081% \n",
            "01:06:34 INFO:[34] train rec loss: 1.5398 | sim loss: 0.0000 | anti_disc_loss: 0.0254 || scene disc 0.6852 57.194% \n",
            "01:08:55 INFO:[35] train rec loss: 1.5398 | sim loss: 0.0000 | anti_disc_loss: 0.0382 || scene disc 0.6883 54.394% \n",
            "01:11:14 INFO:[36] train rec loss: 1.5430 | sim loss: 0.0000 | anti_disc_loss: 0.0343 || scene disc 0.6880 54.281% \n"
          ],
          "name": "stderr"
        },
        {
          "output_type": "error",
          "ename": "KeyboardInterrupt",
          "evalue": "ignored",
          "traceback": [
            "\u001b[0;31m---------------------------------------------------------------------------\u001b[0m",
            "\u001b[0;31mKeyboardInterrupt\u001b[0m                         Traceback (most recent call last)",
            "\u001b[0;32m<ipython-input-8-6b22133aeb22>\u001b[0m in \u001b[0;36m<module>\u001b[0;34m()\u001b[0m\n\u001b[0;32m----> 1\u001b[0;31m \u001b[0mbucket_iter_train\u001b[0m\u001b[0;34m,\u001b[0m \u001b[0mbucket_iter_val\u001b[0m\u001b[0;34m,\u001b[0m \u001b[0mmodels\u001b[0m\u001b[0;34m=\u001b[0m \u001b[0mtrain_main\u001b[0m\u001b[0;34m(\u001b[0m \u001b[0mget_options\u001b[0m\u001b[0;34m(\u001b[0m\u001b[0;32mTrue\u001b[0m\u001b[0;34m)\u001b[0m\u001b[0;34m,\u001b[0m\u001b[0mbucket_iter_train\u001b[0m\u001b[0;34m,\u001b[0m \u001b[0mbucket_iter_val\u001b[0m\u001b[0;34m,\u001b[0m \u001b[0mmodels\u001b[0m \u001b[0;34m)\u001b[0m\u001b[0;34m\u001b[0m\u001b[0m\n\u001b[0m",
            "\u001b[0;32m/content/paraphraser_pytorch/paraph/train.py\u001b[0m in \u001b[0;36mtrain_main\u001b[0;34m(opt, bucket_iter_train, bucket_iter_val, models)\u001b[0m\n\u001b[1;32m    236\u001b[0m         \u001b[0;32mfor\u001b[0m \u001b[0mepoch\u001b[0m \u001b[0;32min\u001b[0m \u001b[0mrange\u001b[0m\u001b[0;34m(\u001b[0m\u001b[0;36m0\u001b[0m\u001b[0;34m,\u001b[0m \u001b[0mopt\u001b[0m\u001b[0;34m.\u001b[0m\u001b[0mepocs\u001b[0m\u001b[0;34m)\u001b[0m\u001b[0;34m:\u001b[0m\u001b[0;34m\u001b[0m\u001b[0m\n\u001b[1;32m    237\u001b[0m             \u001b[0mset_train\u001b[0m\u001b[0;34m(\u001b[0m\u001b[0mmodels\u001b[0m\u001b[0;34m)\u001b[0m\u001b[0;34m\u001b[0m\u001b[0m\n\u001b[0;32m--> 238\u001b[0;31m             \u001b[0mone_epoc\u001b[0m\u001b[0;34m(\u001b[0m\u001b[0mepoc_count\u001b[0m\u001b[0;34m,\u001b[0m\u001b[0mbucket_iter_train\u001b[0m\u001b[0;34m,\u001b[0m \u001b[0mmodels\u001b[0m\u001b[0;34m,\u001b[0m\u001b[0mdont_optimize\u001b[0m\u001b[0;34m=\u001b[0m\u001b[0;32mFalse\u001b[0m\u001b[0;34m)\u001b[0m\u001b[0;34m\u001b[0m\u001b[0m\n\u001b[0m\u001b[1;32m    239\u001b[0m \u001b[0;34m\u001b[0m\u001b[0m\n\u001b[1;32m    240\u001b[0m             \u001b[0;32mif\u001b[0m \u001b[0mepoch\u001b[0m\u001b[0;34m%\u001b[0m\u001b[0;36m10\u001b[0m\u001b[0;34m==\u001b[0m\u001b[0;36m0\u001b[0m\u001b[0;34m:\u001b[0m\u001b[0;34m\u001b[0m\u001b[0m\n",
            "\u001b[0;32m/content/paraphraser_pytorch/paraph/train.py\u001b[0m in \u001b[0;36mone_epoc\u001b[0;34m(epoch, bucket_iter_train, models, dont_optimize)\u001b[0m\n\u001b[1;32m    178\u001b[0m             \u001b[0;31m# train main model\u001b[0m\u001b[0;34m\u001b[0m\u001b[0;34m\u001b[0m\u001b[0m\n\u001b[1;32m    179\u001b[0m             \u001b[0;31m# %time train(b,epoch) #300ms\u001b[0m\u001b[0;34m\u001b[0m\u001b[0;34m\u001b[0m\u001b[0m\n\u001b[0;32m--> 180\u001b[0;31m             \u001b[0msim_loss\u001b[0m\u001b[0;34m,\u001b[0m \u001b[0mrec_loss\u001b[0m\u001b[0;34m,\u001b[0m \u001b[0manti_disc_loss\u001b[0m \u001b[0;34m=\u001b[0m \u001b[0mtrain\u001b[0m\u001b[0;34m(\u001b[0m\u001b[0mb\u001b[0m\u001b[0;34m,\u001b[0m \u001b[0mmodels\u001b[0m\u001b[0;34m,\u001b[0m \u001b[0mdont_optimize\u001b[0m\u001b[0;34m)\u001b[0m\u001b[0;34m\u001b[0m\u001b[0m\n\u001b[0m\u001b[1;32m    181\u001b[0m             \u001b[0mlogger\u001b[0m\u001b[0;34m.\u001b[0m\u001b[0mdebug\u001b[0m\u001b[0;34m(\u001b[0m\u001b[0;34m'train done'\u001b[0m\u001b[0;34m)\u001b[0m\u001b[0;34m\u001b[0m\u001b[0m\n\u001b[1;32m    182\u001b[0m \u001b[0;34m\u001b[0m\u001b[0m\n",
            "\u001b[0;32m/content/paraphraser_pytorch/paraph/train.py\u001b[0m in \u001b[0;36mtrain\u001b[0;34m(b, models, dont_optimize)\u001b[0m\n\u001b[1;32m    116\u001b[0m \u001b[0;34m\u001b[0m\u001b[0m\n\u001b[1;32m    117\u001b[0m         \u001b[0;32mif\u001b[0m \u001b[0;32mnot\u001b[0m \u001b[0mdont_optimize\u001b[0m\u001b[0;34m:\u001b[0m\u001b[0;34m\u001b[0m\u001b[0m\n\u001b[0;32m--> 118\u001b[0;31m             \u001b[0mloss\u001b[0m\u001b[0;34m.\u001b[0m\u001b[0mbackward\u001b[0m\u001b[0;34m(\u001b[0m\u001b[0;34m)\u001b[0m\u001b[0;34m\u001b[0m\u001b[0m\n\u001b[0m\u001b[1;32m    119\u001b[0m             \u001b[0moptimizer_en_sem\u001b[0m\u001b[0;34m.\u001b[0m\u001b[0mstep\u001b[0m\u001b[0;34m(\u001b[0m\u001b[0;34m)\u001b[0m\u001b[0;34m\u001b[0m\u001b[0m\n\u001b[1;32m    120\u001b[0m             \u001b[0moptimizer_en_sty\u001b[0m\u001b[0;34m.\u001b[0m\u001b[0mstep\u001b[0m\u001b[0;34m(\u001b[0m\u001b[0;34m)\u001b[0m\u001b[0;34m\u001b[0m\u001b[0m\n",
            "\u001b[0;32m/usr/local/lib/python3.6/dist-packages/torch/tensor.py\u001b[0m in \u001b[0;36mbackward\u001b[0;34m(self, gradient, retain_graph, create_graph)\u001b[0m\n\u001b[1;32m     91\u001b[0m                 \u001b[0mproducts\u001b[0m\u001b[0;34m.\u001b[0m \u001b[0mDefaults\u001b[0m \u001b[0mto\u001b[0m\u001b[0;31m \u001b[0m\u001b[0;31m`\u001b[0m\u001b[0;31m`\u001b[0m\u001b[0;32mFalse\u001b[0m\u001b[0;31m`\u001b[0m\u001b[0;31m`\u001b[0m\u001b[0;34m.\u001b[0m\u001b[0;34m\u001b[0m\u001b[0m\n\u001b[1;32m     92\u001b[0m         \"\"\"\n\u001b[0;32m---> 93\u001b[0;31m         \u001b[0mtorch\u001b[0m\u001b[0;34m.\u001b[0m\u001b[0mautograd\u001b[0m\u001b[0;34m.\u001b[0m\u001b[0mbackward\u001b[0m\u001b[0;34m(\u001b[0m\u001b[0mself\u001b[0m\u001b[0;34m,\u001b[0m \u001b[0mgradient\u001b[0m\u001b[0;34m,\u001b[0m \u001b[0mretain_graph\u001b[0m\u001b[0;34m,\u001b[0m \u001b[0mcreate_graph\u001b[0m\u001b[0;34m)\u001b[0m\u001b[0;34m\u001b[0m\u001b[0m\n\u001b[0m\u001b[1;32m     94\u001b[0m \u001b[0;34m\u001b[0m\u001b[0m\n\u001b[1;32m     95\u001b[0m     \u001b[0;32mdef\u001b[0m \u001b[0mregister_hook\u001b[0m\u001b[0;34m(\u001b[0m\u001b[0mself\u001b[0m\u001b[0;34m,\u001b[0m \u001b[0mhook\u001b[0m\u001b[0;34m)\u001b[0m\u001b[0;34m:\u001b[0m\u001b[0;34m\u001b[0m\u001b[0m\n",
            "\u001b[0;32m/usr/local/lib/python3.6/dist-packages/torch/autograd/__init__.py\u001b[0m in \u001b[0;36mbackward\u001b[0;34m(tensors, grad_tensors, retain_graph, create_graph, grad_variables)\u001b[0m\n\u001b[1;32m     88\u001b[0m     Variable._execution_engine.run_backward(\n\u001b[1;32m     89\u001b[0m         \u001b[0mtensors\u001b[0m\u001b[0;34m,\u001b[0m \u001b[0mgrad_tensors\u001b[0m\u001b[0;34m,\u001b[0m \u001b[0mretain_graph\u001b[0m\u001b[0;34m,\u001b[0m \u001b[0mcreate_graph\u001b[0m\u001b[0;34m,\u001b[0m\u001b[0;34m\u001b[0m\u001b[0m\n\u001b[0;32m---> 90\u001b[0;31m         allow_unreachable=True)  # allow_unreachable flag\n\u001b[0m\u001b[1;32m     91\u001b[0m \u001b[0;34m\u001b[0m\u001b[0m\n\u001b[1;32m     92\u001b[0m \u001b[0;34m\u001b[0m\u001b[0m\n",
            "\u001b[0;31mKeyboardInterrupt\u001b[0m: "
          ]
        }
      ]
    },
    {
      "metadata": {
        "id": "7yVxxQw2KPhM",
        "colab_type": "code",
        "colab": {
          "base_uri": "https://localhost:8080/",
          "height": 4961
        },
        "outputId": "9a3eb947-af1b-4468-cf36-2ef3f2e6e0cd"
      },
      "cell_type": "code",
      "source": [
        "sys.argv= [\"first_is_filename\",\"--sem_sim_weight\",\"0\",\"--sd_weight\",\"10\",\"--epocs\",\"100\",\"--lr\",\"0.0001\"] #change if needed\n",
        "bucket_iter_train, bucket_iter_val, models= train_main( get_options(True),bucket_iter_train, bucket_iter_val, models )"
      ],
      "execution_count": 9,
      "outputs": [
        {
          "output_type": "stream",
          "text": [
            "Namespace(adv_disc_lr=0.01, batch_size=32, beta1=0.5, epoch_size=500, epocs=100, lr=0.0001, max_sent_len=30, optimizer='adam', sd_weight=10.0, sem_sim_weight=0.0, semantics_dim=256, style_dim=100)\n",
            "running train with options: Namespace(adv_disc_lr=0.01, batch_size=32, beta1=0.5, epoch_size=500, epocs=100, lr=0.0001, max_sent_len=30, optimizer='adam', sd_weight=10.0, sem_sim_weight=0.0, semantics_dim=256, style_dim=100)\n",
            "lr 0.0001 0.5\n"
          ],
          "name": "stdout"
        },
        {
          "output_type": "stream",
          "text": [
            "01:15:31 INFO:[00] train rec loss: 1.4872 | sim loss: 0.0000 | anti_disc_loss: 0.0355 || scene disc 0.6880 53.950% \n",
            "01:16:35 INFO:[00] eval rec loss: 2.4082 | sim loss: 0.0000 | anti_disc_loss: 0.1443 || scene disc 0.7028 49.422% \n"
          ],
          "name": "stderr"
        },
        {
          "output_type": "stream",
          "text": [
            "\n",
            "              sent0:  and  god  called  the  dry  land  earth ,  and  the <unk> of  waters  he  called  seas :  and  god  saw  that  it  was  good . <pad><pad><pad><pad><pad><pad><pad><pad><pad><pad><pad><pad><pad><pad><pad><pad><pad><pad><pad><pad><pad><pad><pad><pad><pad>\n",
            "         sent0_targ: <sos><sos> and  god  called  the  dry  land  earth ,  and  the <unk> of  waters  he  called  seas :  and  god  saw  that  it  was  good . <eos><eos><pad><pad><pad><pad><pad><pad><pad><pad><pad><pad><pad><pad><pad><pad><pad><pad><pad><pad><pad><pad><pad><pad><pad><pad><pad>\n",
            "              sent1:  and  god  gave  the  dry  land  the  name  of  earth ;  and  the  waters  together  in  their  place  were  named  seas :  and  god  saw  that  it  was  good . <pad><pad><pad><pad><pad><pad><pad><pad><pad><pad><pad><pad><pad><pad><pad><pad><pad><pad><pad>\n",
            "              sentX:  give  her  of  the  fruit  of  her  hands ;  and  let  her  own  works  praise  her  in  the  gates . <pad><pad><pad><pad><pad><pad><pad><pad><pad><pad><pad><pad><pad><pad><pad><pad><pad><pad><pad><pad><pad><pad><pad><pad><pad><pad><pad><pad><pad><pad><pad><pad><pad><pad><pad><pad><pad><pad><pad><pad><pad><pad><pad><pad><pad><pad><pad><pad><pad><pad><pad><pad><pad><pad><pad><pad><pad>\n",
            "recon_sem0_sty0:[TF=0] <sos> and  god  made  the  earth  full  of  the  water - hole ,  and  the  earth  was  given  to  heaven ,  and  gave  it  to  the  god  of  heaven ; \n",
            "recon_semX_sty0:[TF=0] <sos> give  her  wine ,  and  the <unk> of  her  hands  shall  be  opened ;  and  the  lord  shall  be  glad  with  her . <eos><eos><eos><eos><eos><eos>\n",
            "recon_semX_sty1:[TF=0] <sos> give  her  wine ,  and  the <unk> of  her  hands  shall  be  opened ;  and  the  lord  shall  be  glad  with  her . <eos><eos><eos><eos><eos><eos>\n",
            "recon_semX_sty1:[TF=1] <sos> give  her <unk> her  name  of , ,  and  let  fruit  of  her  with  sent  on . <eos> the  is  that  she  is  joy . <eos><eos><eos> then  ye  ye  ye  in  in  in . . . . . . . . . . . . . . . . . \n",
            "\n",
            "              sent0:  and  god  said ,  let  the  waters  bring  forth <unk> the  moving <unk> that  hath  life ,  and <unk> that  may <unk> above  the  earth  in  the  open <unk> of  heaven . <pad><pad><pad><pad><pad><pad><pad><pad><pad><pad><pad><pad><pad><pad><pad><pad><pad><pad>\n",
            "         sent0_targ: <sos><sos> and  god  said ,  let  the  waters  bring  forth <unk> the  moving <unk> that  hath  life ,  and <unk> that  may <unk> above  the  earth  in  the  open <unk> of  heaven . <eos><eos><pad><pad><pad><pad><pad><pad><pad><pad><pad><pad><pad><pad><pad><pad><pad><pad><pad><pad>\n",
            "              sent1:  and  god  said ,  let  the  waters  be  full  of  living  things ,  and  let  birds  be  in  flight  over  the  earth  under  the <unk> of  heaven . <pad><pad><pad><pad><pad><pad><pad><pad><pad><pad><pad><pad><pad><pad><pad><pad><pad><pad><pad><pad><pad>\n",
            "              sentX:  and  god  said ,  let  the  waters  bring  forth <unk> the  moving <unk> that  hath  life ,  and <unk> that  may <unk> above  the  earth  in  the  open <unk> of  heaven . <pad><pad><pad><pad><pad><pad><pad><pad><pad><pad><pad><pad><pad><pad><pad><pad><pad><pad><pad><pad><pad><pad><pad><pad><pad><pad><pad><pad><pad><pad><pad><pad><pad><pad><pad><pad><pad><pad><pad><pad><pad><pad><pad><pad><pad>\n",
            "recon_sem0_sty0:[TF=0] <sos> and  god  said ,  let  the  high  look  down ,  and  make  the  living  in  heaven ,  and  let  the  earth  be  shamed  on  the  mountains  of <unk>, \n",
            "recon_semX_sty0:[TF=0] <sos> and  god  said ,  let  the  high  look  on  high  mountain ,  let  it  be  seen  in  heaven ,  and  let  the  earth  be  shamed  on  earth ,  for \n",
            "recon_semX_sty1:[TF=0] <sos> and  god  said ,  let  the  high  look  on  high  mountain ,  let  it  be  seen  in  heaven ,  and  let  the  earth  be  shamed  on  earth ,  for \n",
            "recon_semX_sty1:[TF=1] <sos> and  god  said ,  let  the  high  come  down <unk>,  earth  of ,  the  come  in  and  the  in  is  be  life  the  earth ,  the  underworld  space  of  the . <eos><eos><eos> then  in  in  in  in  in  in  in  in  in  in  in  in  in  in  in  in \n"
          ],
          "name": "stdout"
        },
        {
          "output_type": "stream",
          "text": [
            "01:18:54 INFO:[01] train rec loss: 1.4597 | sim loss: 0.0000 | anti_disc_loss: 0.0393 || scene disc 0.6890 53.681% \n",
            "01:21:07 INFO:[02] train rec loss: 1.4423 | sim loss: 0.0000 | anti_disc_loss: 0.0490 || scene disc 0.6880 53.856% \n",
            "01:23:25 INFO:[03] train rec loss: 1.4319 | sim loss: 0.0000 | anti_disc_loss: 0.0445 || scene disc 0.6867 54.231% \n",
            "01:25:45 INFO:[04] train rec loss: 1.4162 | sim loss: 0.0000 | anti_disc_loss: 0.0458 || scene disc 0.6821 57.519% \n",
            "01:28:06 INFO:[05] train rec loss: 1.3992 | sim loss: 0.0000 | anti_disc_loss: 0.0520 || scene disc 0.6781 58.500% \n",
            "01:30:25 INFO:[06] train rec loss: 1.3932 | sim loss: 0.0000 | anti_disc_loss: 0.0674 || scene disc 0.6772 58.250% \n",
            "01:32:42 INFO:[07] train rec loss: 1.3933 | sim loss: 0.0000 | anti_disc_loss: 0.0636 || scene disc 0.6755 58.519% \n",
            "01:34:57 INFO:[08] train rec loss: 1.3817 | sim loss: 0.0000 | anti_disc_loss: 0.0663 || scene disc 0.6749 59.375% \n",
            "01:37:13 INFO:[09] train rec loss: 1.3809 | sim loss: 0.0000 | anti_disc_loss: 0.0588 || scene disc 0.6791 57.331% \n",
            "01:39:32 INFO:[10] train rec loss: 1.3753 | sim loss: 0.0000 | anti_disc_loss: 0.0604 || scene disc 0.6803 57.650% \n",
            "01:40:37 INFO:[10] eval rec loss: 2.3697 | sim loss: 0.0000 | anti_disc_loss: 0.0719 || scene disc 0.6844 54.050% \n"
          ],
          "name": "stderr"
        },
        {
          "output_type": "stream",
          "text": [
            "\n",
            "              sent0:  and  god  called  the  dry  land  earth ,  and  the <unk> of  waters  he  called  seas :  and  god  saw  that  it  was  good . <pad><pad><pad><pad><pad><pad><pad><pad><pad><pad><pad><pad><pad><pad><pad><pad><pad><pad><pad><pad><pad><pad><pad><pad><pad>\n",
            "         sent0_targ: <sos><sos> and  god  called  the  dry  land  earth ,  and  the <unk> of  waters  he  called  seas :  and  god  saw  that  it  was  good . <eos><eos><pad><pad><pad><pad><pad><pad><pad><pad><pad><pad><pad><pad><pad><pad><pad><pad><pad><pad><pad><pad><pad><pad><pad><pad><pad>\n",
            "              sent1:  and  god  gave  the  dry  land  the  name  of  earth ;  and  the  waters  together  in  their  place  were  named  seas :  and  god  saw  that  it  was  good . <pad><pad><pad><pad><pad><pad><pad><pad><pad><pad><pad><pad><pad><pad><pad><pad><pad><pad><pad>\n",
            "              sentX:  and  god  called  the  dry  land  earth ,  and  the <unk> of  waters  he  called  seas :  and  god  saw  that  it  was  good . <pad><pad><pad><pad><pad><pad><pad><pad><pad><pad><pad><pad><pad><pad><pad><pad><pad><pad><pad><pad><pad><pad><pad><pad><pad>\n",
            "recon_sem0_sty0:[TF=0] <sos> and  god  made  the  earth  full  of  water  for  the  kingdom  of  god ,  and  god  gave  it  to  the  god  of  heaven ;  and  it  became  clear  that \n",
            "recon_semX_sty0:[TF=0] <sos> and  god  made  the  earth  full  of  water  for  the  kingdom  of  god ,  and  god  gave  it  to  the  god  of  heaven ;  and  it  became  clear  that \n",
            "recon_semX_sty1:[TF=0] <sos> and  god  made  the  earth  full  of  water  for  the  kingdom  of  god ,  and  god  gave  it  to  the  god  of  heaven ;  and  it  became  clear  that \n",
            "recon_semX_sty1:[TF=1] <sos> and  god  made  the  earth  land  for ,  and  the  earth  of  the  were  made  on ,  and  the  gave  that  it  was  good . <eos><eos><eos><eos> he  in  he  he  in  in . . . . . . . . . . . . . . . . . \n",
            "\n",
            "              sent0:  and  god  said ,  let  the  waters  be  full  of  living  things ,  and  let  birds  be  in  flight  over  the  earth  under  the <unk> of  heaven . <pad><pad><pad><pad><pad><pad><pad><pad><pad><pad><pad><pad><pad><pad><pad><pad><pad><pad><pad><pad><pad><pad>\n",
            "         sent0_targ: <sos><sos> and  god  said ,  let  the  waters  be  full  of  living  things ,  and  let  birds  be  in  flight  over  the  earth  under  the <unk> of  heaven . <eos><eos><pad><pad><pad><pad><pad><pad><pad><pad><pad><pad><pad><pad><pad><pad><pad><pad><pad><pad><pad><pad><pad><pad>\n",
            "              sent1:  and  god  said ,  let  the  waters  bring  forth <unk> the  moving <unk> that  hath  life ,  and <unk> that  may <unk> above  the  earth  in  the  open <unk> of  heaven . <pad><pad><pad><pad><pad><pad><pad><pad><pad><pad><pad><pad><pad><pad><pad><pad><pad>\n",
            "              sentX:  one  man  was  there  who  had  been  ill  for  thirty - eight  years . <pad><pad><pad><pad><pad><pad><pad><pad><pad><pad><pad><pad><pad><pad><pad><pad><pad><pad><pad><pad><pad><pad><pad><pad><pad><pad><pad><pad><pad><pad><pad><pad><pad><pad><pad><pad>\n",
            "recon_sem0_sty0:[TF=0] <sos> and  god  said ,  the  waters  shall  be <unk>,  and  the  waters  shall  be <unk>:  and  the  remnant  shall  be  fulfilled  in  the  midst  of  the  earth \n",
            "recon_semX_sty0:[TF=0] <sos> and  one  thirty  and  thirty  years  old  he  began  to  be  thirty . <eos><eos><eos><eos><eos><eos><eos><eos><eos><eos><eos><eos><eos><eos><eos><eos>\n",
            "recon_semX_sty1:[TF=0] <sos> and  one  thirty  and  thirty  years  old  he  began  to  be  thirty . <eos><eos><eos><eos><eos><eos><eos><eos><eos><eos><eos><eos><eos><eos><eos><eos>\n",
            "recon_semX_sty1:[TF=1] <sos> and  one  was ,  there  every  man  be  thirty  of <unk> years .  and  for  him  be  numbered  sixty . .  house . . <unk>. <unk>. <eos><eos><eos> ye  ye  in  in  in  in  in  in  in  in  in  in  in  in  in  in  in  in  in  in  in \n"
          ],
          "name": "stdout"
        },
        {
          "output_type": "stream",
          "text": [
            "01:42:55 INFO:[11] train rec loss: 1.3704 | sim loss: 0.0000 | anti_disc_loss: 0.0586 || scene disc 0.6802 57.013% \n",
            "01:45:12 INFO:[12] train rec loss: 1.3670 | sim loss: 0.0000 | anti_disc_loss: 0.0748 || scene disc 0.6833 55.763% \n",
            "01:47:27 INFO:[13] train rec loss: 1.3649 | sim loss: 0.0000 | anti_disc_loss: 0.0636 || scene disc 0.6846 55.075% \n",
            "01:49:41 INFO:[14] train rec loss: 1.3580 | sim loss: 0.0000 | anti_disc_loss: 0.0655 || scene disc 0.6833 55.244% \n",
            "01:51:52 INFO:[15] train rec loss: 1.3619 | sim loss: 0.0000 | anti_disc_loss: 0.0682 || scene disc 0.6859 54.956% \n",
            "01:54:12 INFO:[16] train rec loss: 1.3424 | sim loss: 0.0000 | anti_disc_loss: 0.0624 || scene disc 0.6871 54.394% \n",
            "01:56:30 INFO:[17] train rec loss: 1.3430 | sim loss: 0.0000 | anti_disc_loss: 0.0609 || scene disc 0.6859 54.806% \n",
            "01:58:47 INFO:[18] train rec loss: 1.3380 | sim loss: 0.0000 | anti_disc_loss: 0.0649 || scene disc 0.6867 54.231% \n",
            "02:01:04 INFO:[19] train rec loss: 1.3380 | sim loss: 0.0000 | anti_disc_loss: 0.0738 || scene disc 0.6878 53.300% \n",
            "02:03:21 INFO:[20] train rec loss: 1.3394 | sim loss: 0.0000 | anti_disc_loss: 0.0832 || scene disc 0.6884 54.006% \n",
            "02:04:25 INFO:[20] eval rec loss: 2.3811 | sim loss: 0.0000 | anti_disc_loss: 0.0468 || scene disc 0.6844 54.448% \n"
          ],
          "name": "stderr"
        },
        {
          "output_type": "stream",
          "text": [
            "\n",
            "              sent0:  and  god  called  the  dry  land  earth ,  and  the <unk> of  waters  he  called  seas :  and  god  saw  that  it  was  good . <pad><pad><pad><pad><pad><pad><pad><pad><pad><pad><pad><pad><pad><pad><pad><pad><pad><pad><pad><pad><pad><pad><pad><pad>\n",
            "         sent0_targ: <sos><sos> and  god  called  the  dry  land  earth ,  and  the <unk> of  waters  he  called  seas :  and  god  saw  that  it  was  good . <eos><eos><pad><pad><pad><pad><pad><pad><pad><pad><pad><pad><pad><pad><pad><pad><pad><pad><pad><pad><pad><pad><pad><pad><pad><pad>\n",
            "              sent1:  and  god  gave  the  dry  land  the  name  of  earth ;  and  the  waters  together  in  their  place  were  named  seas :  and  god  saw  that  it  was  good . <pad><pad><pad><pad><pad><pad><pad><pad><pad><pad><pad><pad><pad><pad><pad><pad><pad><pad><pad><pad>\n",
            "              sentX:  and  god  called  the  dry  land  earth ,  and  the <unk> of  waters  he  called  seas :  and  god  saw  that  it  was  good . <pad><pad><pad><pad><pad><pad><pad><pad><pad><pad><pad><pad><pad><pad><pad><pad><pad><pad><pad><pad><pad><pad><pad><pad><pad><pad><pad><pad><pad><pad><pad><pad><pad><pad><pad><pad><pad><pad><pad><pad><pad><pad><pad>\n",
            "recon_sem0_sty0:[TF=0] <sos> and  god  made  the  earth -<unk>,  and  the  earth  was  over  the  earth ,  and  the  god  of  god  had  made  it  clear  to  them :  and \n",
            "recon_semX_sty0:[TF=0] <sos> and  god  made  the  earth -<unk>,  and  the  earth  was  over  the  earth ,  and  the  god  of  god  had  made  it  clear  to  them :  and \n",
            "recon_semX_sty1:[TF=0] <sos> and  god  made  the  earth -<unk>,  and  the  earth  was  over  the  earth ,  and  the  god  of  god  had  made  it  clear  to  them :  and \n",
            "recon_semX_sty1:[TF=1] <sos> and  god  made  the  earth  land  for ,  and  the  earth  of  the  were  made  on ,  and  the  gave  that  it  was  good . <eos><eos><eos><eos> he  he  he  he  he  he  he  he . . . . . . . . . . . . . . \n",
            "\n",
            "              sent0:  and  god  said ,  let  the  waters  bring  forth <unk> the  moving <unk> that  hath  life ,  and <unk> that  may <unk> above  the  earth  in  the  open <unk> of  heaven . <pad><pad><pad><pad><pad><pad><pad><pad><pad><pad><pad><pad><pad><pad><pad><pad><pad>\n",
            "         sent0_targ: <sos><sos> and  god  said ,  let  the  waters  bring  forth <unk> the  moving <unk> that  hath  life ,  and <unk> that  may <unk> above  the  earth  in  the  open <unk> of  heaven . <eos><eos><pad><pad><pad><pad><pad><pad><pad><pad><pad><pad><pad><pad><pad><pad><pad><pad><pad>\n",
            "              sent1:  and  god  said ,  let  the  waters  be  full  of  living  things ,  and  let  birds  be  in  flight  over  the  earth  under  the <unk> of  heaven . <pad><pad><pad><pad><pad><pad><pad><pad><pad><pad><pad><pad><pad><pad><pad><pad><pad><pad><pad><pad><pad><pad>\n",
            "              sentX:  and  god  said ,  let  the  waters  bring  forth <unk> the  moving <unk> that  hath  life ,  and <unk> that  may <unk> above  the  earth  in  the  open <unk> of  heaven . <pad><pad><pad><pad><pad><pad><pad><pad><pad><pad><pad><pad><pad><pad><pad><pad><pad><pad><pad><pad><pad><pad><pad><pad><pad><pad><pad><pad><pad><pad><pad><pad><pad><pad><pad><pad>\n",
            "recon_sem0_sty0:[TF=0] <sos> and  god  said ,  let  the  living  bird  be  open  to  the  light  of  life ,  and  let  the  light  be  shining  on  the  earth ,  and  who  is \n",
            "recon_semX_sty0:[TF=0] <sos> and  god  said ,  let  the  living  bird  be  open  to  the  light  of  the  earth ,  and  let  it  be  seen ,  and  the  earth  may  be  shaking \n",
            "recon_semX_sty1:[TF=0] <sos> and  god  said ,  let  the  living  bird  be  open  to  the  light  of  the  earth ,  and  let  it  be  seen ,  and  be  lifted  up  over  the \n",
            "recon_semX_sty1:[TF=1] <sos> and  god  said ,  let  the  living  come  down  the  round  earth  of ,  the  come ,  and  let  on  the  be  the  the  earth ;  the  dust  heaven  of  the . <eos><eos><eos> in  in  in  in  in  in  in  in  in  in  in  in  in  in  in  in \n"
          ],
          "name": "stdout"
        },
        {
          "output_type": "stream",
          "text": [
            "02:06:41 INFO:[21] train rec loss: 1.3406 | sim loss: 0.0000 | anti_disc_loss: 0.0710 || scene disc 0.6849 54.950% \n",
            "02:09:00 INFO:[22] train rec loss: 1.3392 | sim loss: 0.0000 | anti_disc_loss: 0.0735 || scene disc 0.6865 54.419% \n",
            "02:11:17 INFO:[23] train rec loss: 1.3353 | sim loss: 0.0000 | anti_disc_loss: 0.0760 || scene disc 0.6872 54.094% \n",
            "02:13:34 INFO:[24] train rec loss: 1.3310 | sim loss: 0.0000 | anti_disc_loss: 0.0975 || scene disc 0.6885 53.919% \n",
            "02:15:51 INFO:[25] train rec loss: 1.3211 | sim loss: 0.0000 | anti_disc_loss: 0.0775 || scene disc 0.6849 55.481% \n",
            "02:18:08 INFO:[26] train rec loss: 1.3225 | sim loss: 0.0000 | anti_disc_loss: 0.0930 || scene disc 0.6870 54.231% \n",
            "02:20:23 INFO:[27] train rec loss: 1.3194 | sim loss: 0.0000 | anti_disc_loss: 0.1083 || scene disc 0.6866 54.413% \n",
            "02:22:41 INFO:[28] train rec loss: 1.3155 | sim loss: 0.0000 | anti_disc_loss: 0.1214 || scene disc 0.6906 53.712% \n",
            "02:25:00 INFO:[29] train rec loss: 1.3172 | sim loss: 0.0000 | anti_disc_loss: 0.1131 || scene disc 0.6899 53.562% \n",
            "02:27:19 INFO:[30] train rec loss: 1.3089 | sim loss: 0.0000 | anti_disc_loss: 0.1004 || scene disc 0.6910 53.244% \n",
            "02:28:24 INFO:[30] eval rec loss: 2.3875 | sim loss: 0.0000 | anti_disc_loss: 0.0509 || scene disc 0.6848 55.035% \n"
          ],
          "name": "stderr"
        },
        {
          "output_type": "stream",
          "text": [
            "\n",
            "              sent0:  and  god  gave  the  dry  land  the  name  of  earth ;  and  the  waters  together  in  their  place  were  named  seas :  and  god  saw  that  it  was  good . <pad><pad><pad><pad><pad><pad><pad><pad><pad><pad><pad><pad><pad><pad><pad><pad><pad><pad><pad>\n",
            "         sent0_targ: <sos><sos> and  god  gave  the  dry  land  the  name  of  earth ;  and  the  waters  together  in  their  place  were  named  seas :  and  god  saw  that  it  was  good . <eos><eos><pad><pad><pad><pad><pad><pad><pad><pad><pad><pad><pad><pad><pad><pad><pad><pad><pad><pad><pad>\n",
            "              sent1:  and  god  called  the  dry  land  earth ,  and  the <unk> of  waters  he  called  seas :  and  god  saw  that  it  was  good . <pad><pad><pad><pad><pad><pad><pad><pad><pad><pad><pad><pad><pad><pad><pad><pad><pad><pad><pad><pad><pad><pad><pad><pad><pad>\n",
            "              sentX:  and  they  have  been  put  to  rest  with  the  fighting  men  who  came  to  their  end  in  days  long  past ,  who  went  down  to  the  underworld  with  their  instruments  of  war , <unk> their  swords  under  their  heads ,  and  their  body -<unk> are  over  their  bones ;  for  their  strength  was  a  cause  of  fear  in  the  land  of  the  living . \n",
            "recon_sem0_sty0:[TF=0] <sos> and  god <unk> the  earth ,  and  the  waters  were  divided  into  the  earth ;  and  it  was  called  the  name  of  god  upon  the  earth :  and  god \n",
            "recon_semX_sty0:[TF=0] <sos> and  they <unk> in  their  lives ,  and <unk> in  their <unk>,  and  in  their <unk>:  for  they  are  a <unk>-<unk>,  and  their <unk>\n",
            "recon_semX_sty1:[TF=0] <sos> and  they <unk> in  their  lives ,  and <unk> in  their <unk>,  and  in  their <unk>:  for  they  are  a <unk>-<unk>,  and  their <unk>\n",
            "recon_semX_sty1:[TF=1] <sos> and  they  smote  them <unk><unk>, <unk> of  their ,  and  their <unk> were  to  their <unk>, <unk><unk>,  and  they  divided  that  they  was <unk> for <eos><eos><eos> then  their  their  they  in  in  in  in  in  in  in  in  in  in  in  in  in  in \n",
            "\n",
            "              sent0:  and  god  said ,  let  the  waters  be  full  of  living  things ,  and  let  birds  be  in  flight  over  the  earth  under  the <unk> of  heaven . <pad><pad><pad><pad><pad><pad><pad><pad><pad><pad><pad><pad><pad><pad><pad><pad><pad><pad><pad><pad><pad>\n",
            "         sent0_targ: <sos><sos> and  god  said ,  let  the  waters  be  full  of  living  things ,  and  let  birds  be  in  flight  over  the  earth  under  the <unk> of  heaven . <eos><eos><pad><pad><pad><pad><pad><pad><pad><pad><pad><pad><pad><pad><pad><pad><pad><pad><pad><pad><pad><pad><pad>\n",
            "              sent1:  and  god  said ,  let  the  waters  bring  forth <unk> the  moving <unk> that  hath  life ,  and <unk> that  may <unk> above  the  earth  in  the  open <unk> of  heaven . <pad><pad><pad><pad><pad><pad><pad><pad><pad><pad><pad><pad><pad><pad><pad><pad><pad><pad>\n",
            "              sentX:  and  the  tongue  is  a  fire ;  it  is  the  power  of  evil  placed  in  our  bodies ,  making  all  the  body  unclean ,  putting  the <unk> of  life  on  fire ,  and  getting  its  fire  from  hell . <pad><pad><pad><pad><pad><pad><pad><pad><pad><pad><pad><pad><pad><pad><pad><pad><pad><pad><pad><pad><pad><pad><pad><pad><pad><pad>\n",
            "recon_sem0_sty0:[TF=0] <sos> and  god  said ,  let  the  waters  that  dwell  in  the  waters ,  and  the  waters  shall  be <unk>,  and  there  shall  be  a <unk> of  dew  on \n",
            "recon_semX_sty0:[TF=0] <sos> and  the  fire  which  god  hath  kindled  the  fire :  it  is  a  new  thing  in  heaven ,  and  pour  out  the  fire  breath  into <unk>,  and  all \n",
            "recon_semX_sty1:[TF=0] <sos> and  the  fire  which  god  hath  kindled  the  fire :  it  is  a  new  thing  in  heaven ,  and  pour  out  the  fire  breath  into <unk>,  and  all \n",
            "recon_semX_sty1:[TF=1] <sos> and  the  will  to  it  us  fire  of <unk> of <unk><unk>;  and <unk> us  of <unk> the :  all <unk>:  the <unk> of <unk>, <eos><eos><eos> then  them  them  by  by  by  by  by  by  by  by  by  by  by  by . . . . . \n"
          ],
          "name": "stdout"
        },
        {
          "output_type": "stream",
          "text": [
            "02:30:44 INFO:[31] train rec loss: 1.3196 | sim loss: 0.0000 | anti_disc_loss: 0.1090 || scene disc 0.6898 53.487% \n",
            "02:33:01 INFO:[32] train rec loss: 1.3120 | sim loss: 0.0000 | anti_disc_loss: 0.1012 || scene disc 0.6915 53.231% \n",
            "02:35:18 INFO:[33] train rec loss: 1.3084 | sim loss: 0.0000 | anti_disc_loss: 0.0913 || scene disc 0.6880 53.806% \n",
            "02:37:38 INFO:[34] train rec loss: 1.2977 | sim loss: 0.0000 | anti_disc_loss: 0.1027 || scene disc 0.6873 54.138% \n",
            "02:39:57 INFO:[35] train rec loss: 1.3120 | sim loss: 0.0000 | anti_disc_loss: 0.1176 || scene disc 0.6879 54.138% \n",
            "02:42:15 INFO:[36] train rec loss: 1.3087 | sim loss: 0.0000 | anti_disc_loss: 0.1180 || scene disc 0.6864 54.850% \n",
            "02:44:34 INFO:[37] train rec loss: 1.2972 | sim loss: 0.0000 | anti_disc_loss: 0.1175 || scene disc 0.6871 53.938% \n",
            "02:46:51 INFO:[38] train rec loss: 1.2985 | sim loss: 0.0000 | anti_disc_loss: 0.1099 || scene disc 0.6888 53.519% \n",
            "02:49:06 INFO:[39] train rec loss: 1.2915 | sim loss: 0.0000 | anti_disc_loss: 0.0853 || scene disc 0.6854 54.819% \n",
            "02:51:21 INFO:[40] train rec loss: 1.2891 | sim loss: 0.0000 | anti_disc_loss: 0.0920 || scene disc 0.6860 54.481% \n",
            "02:52:25 INFO:[40] eval rec loss: 2.3811 | sim loss: 0.0000 | anti_disc_loss: 0.0450 || scene disc 0.6796 57.478% \n"
          ],
          "name": "stderr"
        },
        {
          "output_type": "stream",
          "text": [
            "\n",
            "              sent0:  and  god  gave  the  dry  land  the  name  of  earth ;  and  the  waters  together  in  their  place  were  named  seas :  and  god  saw  that  it  was  good . <pad><pad><pad><pad><pad><pad><pad><pad><pad><pad><pad><pad><pad><pad><pad><pad><pad><pad><pad><pad>\n",
            "         sent0_targ: <sos><sos> and  god  gave  the  dry  land  the  name  of  earth ;  and  the  waters  together  in  their  place  were  named  seas :  and  god  saw  that  it  was  good . <eos><eos><pad><pad><pad><pad><pad><pad><pad><pad><pad><pad><pad><pad><pad><pad><pad><pad><pad><pad><pad><pad>\n",
            "              sent1:  and  god  called  the  dry  land  earth ,  and  the <unk> of  waters  he  called  seas :  and  god  saw  that  it  was  good . <pad><pad><pad><pad><pad><pad><pad><pad><pad><pad><pad><pad><pad><pad><pad><pad><pad><pad><pad><pad><pad><pad><pad><pad>\n",
            "              sentX:  and  god  gave  the  dry  land  the  name  of  earth ;  and  the  waters  together  in  their  place  were  named  seas :  and  god  saw  that  it  was  good . <pad><pad><pad><pad><pad><pad><pad><pad><pad><pad><pad><pad><pad><pad><pad><pad><pad><pad><pad><pad><pad><pad><pad><pad><pad><pad><pad><pad><pad>\n",
            "recon_sem0_sty0:[TF=0] <sos> and  god <unk> the  earth ,  and  the  waters  were  finished :  and  the  waters  were <unk> with  it ,  and <unk> it :  for  it  was  god '\n",
            "recon_semX_sty0:[TF=0] <sos> and  god <unk> the  earth ,  and  the  waters  were  finished :  and  the  waters  were <unk> with  it ,  and <unk> it :  for  it  was  god '\n",
            "recon_semX_sty1:[TF=0] <sos> and  god <unk> the  earth ,  and  the  waters  were <unk>:  and  the  waters  were <unk> with  it ,  and <unk> it :  and  god  saw  that  it \n",
            "recon_semX_sty1:[TF=1] <sos> and  god <unk> the <unk> land  into <unk> of  the :  and  it  waters  were ,  it  place ,  made <unk>;  and  god  saw  that  it  was  good . <eos><eos><eos> then  ye  ye  ye  of . . . . . . . . . . . . . . \n",
            "\n",
            "              sent0:  and  god  said ,  let  the  waters  bring  forth <unk> the  moving <unk> that  hath  life ,  and <unk> that  may <unk> above  the  earth  in  the  open <unk> of  heaven . <pad><pad><pad><pad><pad><pad><pad><pad><pad><pad><pad><pad><pad><pad><pad><pad><pad><pad>\n",
            "         sent0_targ: <sos><sos> and  god  said ,  let  the  waters  bring  forth <unk> the  moving <unk> that  hath  life ,  and <unk> that  may <unk> above  the  earth  in  the  open <unk> of  heaven . <eos><eos><pad><pad><pad><pad><pad><pad><pad><pad><pad><pad><pad><pad><pad><pad><pad><pad><pad><pad>\n",
            "              sent1:  and  god  said ,  let  the  waters  be  full  of  living  things ,  and  let  birds  be  in  flight  over  the  earth  under  the <unk> of  heaven . <pad><pad><pad><pad><pad><pad><pad><pad><pad><pad><pad><pad><pad><pad><pad><pad><pad><pad><pad><pad><pad>\n",
            "              sentX:  and  the  chief  priests  took  the  silver  pieces ,  and  said ,  it  is  not  lawful  to  put  them  into  the <unk>,  because  it  is  the  price  of  blood . <pad><pad><pad><pad><pad><pad><pad><pad><pad><pad><pad><pad><pad><pad><pad><pad><pad><pad><pad><pad><pad><pad><pad><pad><pad><pad><pad><pad>\n",
            "recon_sem0_sty0:[TF=0] <sos> and  god  said ,  let  the  horn  be  sounded  in  the  dark ,  and  be  lifted  up  in  pride ,  and  be  lifted  up  over  the  earth ,  so \n",
            "recon_semX_sty0:[TF=0] <sos> and  the  chief  priests  took  the  money  into  the <unk>,  and  said  to  them ,  it  is  not  possible  for  the  blood  of  the <unk>. <eos><eos>\n",
            "recon_semX_sty1:[TF=0] <sos> and  the  chief  priests  took  the  money  into  the <unk>,  and  said  to  them ,  it  is  not  possible  for  the  blood  of  the <unk>. <eos><eos>\n",
            "recon_semX_sty1:[TF=1] <sos> and  the  had  to  the  the  priests  come  their  their , <unk> of  to  they  not  to  and  they  not  they  not  blood . <unk>.  its <unk> field .  samaria . <eos><eos><eos> in  in  in  in  in  in  in  in  in  in  in  in  in  in  in  in  in \n"
          ],
          "name": "stdout"
        },
        {
          "output_type": "stream",
          "text": [
            "02:54:47 INFO:[41] train rec loss: 1.2874 | sim loss: 0.0000 | anti_disc_loss: 0.0972 || scene disc 0.6789 57.013% \n",
            "02:57:05 INFO:[42] train rec loss: 1.2849 | sim loss: 0.0000 | anti_disc_loss: 0.1329 || scene disc 0.6828 55.188% \n",
            "02:59:23 INFO:[43] train rec loss: 1.2963 | sim loss: 0.0000 | anti_disc_loss: 0.1164 || scene disc 0.6799 56.656% \n",
            "03:01:39 INFO:[44] train rec loss: 1.2812 | sim loss: 0.0000 | anti_disc_loss: 0.0951 || scene disc 0.6823 56.269% \n",
            "03:03:53 INFO:[45] train rec loss: 1.2874 | sim loss: 0.0000 | anti_disc_loss: 0.1193 || scene disc 0.6831 55.888% \n",
            "03:06:08 INFO:[46] train rec loss: 1.2817 | sim loss: 0.0000 | anti_disc_loss: 0.1337 || scene disc 0.6911 53.456% \n",
            "03:08:24 INFO:[47] train rec loss: 1.2873 | sim loss: 0.0000 | anti_disc_loss: 0.1068 || scene disc 0.6872 54.112% \n",
            "03:10:42 INFO:[48] train rec loss: 1.2864 | sim loss: 0.0000 | anti_disc_loss: 0.0938 || scene disc 0.6884 53.562% \n",
            "03:12:59 INFO:[49] train rec loss: 1.2786 | sim loss: 0.0000 | anti_disc_loss: 0.1082 || scene disc 0.6888 54.094% \n",
            "03:15:16 INFO:[50] train rec loss: 1.2780 | sim loss: 0.0000 | anti_disc_loss: 0.0785 || scene disc 0.6836 55.800% \n",
            "03:16:19 INFO:[50] eval rec loss: 2.3861 | sim loss: 0.0000 | anti_disc_loss: 0.0308 || scene disc 0.6836 56.694% \n"
          ],
          "name": "stderr"
        },
        {
          "output_type": "stream",
          "text": [
            "\n",
            "              sent0:  and  god  called  the  dry  land  earth ,  and  the <unk> of  waters  he  called  seas :  and  god  saw  that  it  was  good . <pad><pad><pad><pad><pad><pad><pad><pad><pad><pad><pad><pad><pad><pad><pad><pad><pad><pad><pad><pad><pad><pad><pad><pad>\n",
            "         sent0_targ: <sos><sos> and  god  called  the  dry  land  earth ,  and  the <unk> of  waters  he  called  seas :  and  god  saw  that  it  was  good . <eos><eos><pad><pad><pad><pad><pad><pad><pad><pad><pad><pad><pad><pad><pad><pad><pad><pad><pad><pad><pad><pad><pad><pad><pad><pad>\n",
            "              sent1:  and  god  gave  the  dry  land  the  name  of  earth ;  and  the  waters  together  in  their  place  were  named  seas :  and  god  saw  that  it  was  good . <pad><pad><pad><pad><pad><pad><pad><pad><pad><pad><pad><pad><pad><pad><pad><pad><pad><pad><pad><pad>\n",
            "              sentX:  and  god  called  the  dry  land  earth ,  and  the <unk> of  waters  he  called  seas :  and  god  saw  that  it  was  good . <pad><pad><pad><pad><pad><pad><pad><pad><pad><pad><pad><pad><pad><pad><pad><pad><pad><pad><pad><pad><pad><pad><pad><pad><pad><pad><pad><pad><pad><pad><pad><pad><pad><pad><pad><pad><pad><pad><pad><pad><pad><pad><pad><pad><pad><pad>\n",
            "recon_sem0_sty0:[TF=0] <sos> and  god  made  the  earth -<unk>,  and  the  earth  was  over  it ,  and  the  earth  was  over  it ,  and  gave  it  to  the  god  of \n",
            "recon_semX_sty0:[TF=0] <sos> and  god  made  the  earth -<unk>,  and  the  earth  was  over  it ,  and  the  earth  was  over  it ,  and  gave  it  to  the  god  of \n",
            "recon_semX_sty1:[TF=0] <sos> and  god  made  the  earth -<unk>,  and  the  earth  was  over  it ,  and  the  earth  was  over  it ,  and  gave  it  to  the  god  of \n",
            "recon_semX_sty1:[TF=1] <sos> and  god  made  the  earth  land  for ,  and  the  earth  earth  the  were  made  on ,  and  the  gave  that  it  was  good . <eos><eos><eos><eos> abimelech  in  he  he  in . . . . . . . . . . . . . . . . . \n",
            "\n",
            "              sent0:  and  god  said ,  let  the  waters  bring  forth <unk> the  moving <unk> that  hath  life ,  and <unk> that  may <unk> above  the  earth  in  the  open <unk> of  heaven . <pad><pad><pad><pad><pad><pad><pad><pad><pad><pad><pad><pad><pad><pad><pad><pad><pad>\n",
            "         sent0_targ: <sos><sos> and  god  said ,  let  the  waters  bring  forth <unk> the  moving <unk> that  hath  life ,  and <unk> that  may <unk> above  the  earth  in  the  open <unk> of  heaven . <eos><eos><pad><pad><pad><pad><pad><pad><pad><pad><pad><pad><pad><pad><pad><pad><pad><pad><pad>\n",
            "              sent1:  and  god  said ,  let  the  waters  be  full  of  living  things ,  and  let  birds  be  in  flight  over  the  earth  under  the <unk> of  heaven . <pad><pad><pad><pad><pad><pad><pad><pad><pad><pad><pad><pad><pad><pad><pad><pad><pad><pad><pad><pad><pad><pad>\n",
            "              sentX:  and  after  they  had <unk> there  a  time ,  they  were <unk> in  peace  from  the  brethren  to  the  apostles . <pad><pad><pad><pad><pad><pad><pad><pad><pad><pad><pad><pad><pad><pad><pad><pad><pad><pad><pad><pad><pad><pad><pad><pad><pad><pad><pad><pad><pad><pad><pad><pad><pad><pad><pad><pad><pad><pad><pad><pad><pad><pad><pad><pad><pad><pad><pad><pad><pad><pad>\n",
            "recon_sem0_sty0:[TF=0] <sos> and  god  said ,  let  the  horn  be  shining  on  the  earth ,  and  let  it  be  on  the  earth ,  shaking  with  fear  that  is  on  the  earth \n",
            "recon_semX_sty0:[TF=0] <sos> and  there  they  were  in  peace ,  they  were  apostles  and  peace  among  the  brothers . <eos><eos><eos><eos><eos><eos><eos><eos><eos><eos><eos><eos><eos>\n",
            "recon_semX_sty1:[TF=0] <sos> and  there  they  were  in  peace ,  they  were  apostles  and  peace  among  the  brothers . <eos><eos><eos><eos><eos><eos><eos><eos><eos><eos><eos><eos><eos>\n",
            "recon_semX_sty1:[TF=1] <sos> and  there  had  to  they  there  same  now  a  from  from  apostles  of  to  they  the .  even  of  peace  the  the . .  brothers .  peace  sight  country .  the . <eos><eos><eos> in  in  in  in  in  in  in  in  in . . . . . . . \n"
          ],
          "name": "stdout"
        },
        {
          "output_type": "stream",
          "text": [
            "03:18:38 INFO:[51] train rec loss: 1.2687 | sim loss: 0.0000 | anti_disc_loss: 0.0635 || scene disc 0.6865 54.513% \n",
            "03:20:50 INFO:[52] train rec loss: 1.2773 | sim loss: 0.0000 | anti_disc_loss: 0.0763 || scene disc 0.6854 55.025% \n",
            "03:23:06 INFO:[53] train rec loss: 1.2779 | sim loss: 0.0000 | anti_disc_loss: 0.0925 || scene disc 0.6878 53.812% \n",
            "03:25:25 INFO:[54] train rec loss: 1.2652 | sim loss: 0.0000 | anti_disc_loss: 0.1173 || scene disc 0.6944 51.688% \n",
            "03:27:43 INFO:[55] train rec loss: 1.2674 | sim loss: 0.0000 | anti_disc_loss: 0.0931 || scene disc 0.6905 52.906% \n",
            "03:30:02 INFO:[56] train rec loss: 1.2591 | sim loss: 0.0000 | anti_disc_loss: 0.0654 || scene disc 0.6891 53.256% \n",
            "03:32:17 INFO:[57] train rec loss: 1.2672 | sim loss: 0.0000 | anti_disc_loss: 0.0766 || scene disc 0.6886 53.812% \n",
            "03:34:32 INFO:[58] train rec loss: 1.2668 | sim loss: 0.0000 | anti_disc_loss: 0.0757 || scene disc 0.6902 52.888% \n",
            "03:36:45 INFO:[59] train rec loss: 1.2720 | sim loss: 0.0000 | anti_disc_loss: 0.0679 || scene disc 0.6878 53.837% \n",
            "03:39:03 INFO:[60] train rec loss: 1.2657 | sim loss: 0.0000 | anti_disc_loss: 0.0649 || scene disc 0.6882 53.994% \n",
            "03:40:09 INFO:[60] eval rec loss: 2.4054 | sim loss: 0.0000 | anti_disc_loss: 0.0782 || scene disc 0.6902 52.122% \n"
          ],
          "name": "stderr"
        },
        {
          "output_type": "stream",
          "text": [
            "\n",
            "              sent0:  and  god  gave  the  dry  land  the  name  of  earth ;  and  the  waters  together  in  their  place  were  named  seas :  and  god  saw  that  it  was  good . <pad><pad><pad><pad><pad><pad><pad><pad><pad><pad><pad><pad><pad><pad><pad><pad><pad><pad><pad><pad>\n",
            "         sent0_targ: <sos><sos> and  god  gave  the  dry  land  the  name  of  earth ;  and  the  waters  together  in  their  place  were  named  seas :  and  god  saw  that  it  was  good . <eos><eos><pad><pad><pad><pad><pad><pad><pad><pad><pad><pad><pad><pad><pad><pad><pad><pad><pad><pad><pad><pad>\n",
            "              sent1:  and  god  called  the  dry  land  earth ,  and  the <unk> of  waters  he  called  seas :  and  god  saw  that  it  was  good . <pad><pad><pad><pad><pad><pad><pad><pad><pad><pad><pad><pad><pad><pad><pad><pad><pad><pad><pad><pad><pad><pad><pad><pad>\n",
            "              sentX:  we  are  without  fear ,  desiring  to  be  free  from  the  body ,  and  to  be  with  the  lord . <pad><pad><pad><pad><pad><pad><pad><pad><pad><pad><pad><pad><pad><pad><pad><pad><pad><pad><pad><pad><pad><pad><pad><pad><pad><pad><pad><pad><pad><pad><pad><pad><pad><pad><pad><pad><pad><pad><pad><pad><pad><pad><pad><pad><pad><pad>\n",
            "recon_sem0_sty0:[TF=0] <sos> and  god <unk> the  earth ,  and  the  waters  were <unk>:  and  the  waters  were <unk> with  it ,  and <unk> them :  and  god  saw  that  it \n",
            "recon_semX_sty0:[TF=0] <sos> we  are <unk> to  be <unk>,  and  not  to  be <unk>,  and  be <unk> to  the  lord . <eos><eos><eos><eos><eos><eos><eos><eos><eos>\n",
            "recon_semX_sty1:[TF=0] <sos> we  are <unk>,  and <unk> not  the <unk> of  the  body ,  and  of  the  lord . <eos><eos><eos><eos><eos><eos><eos><eos><eos><eos><eos>\n",
            "recon_semX_sty1:[TF=1] <sos> we  we  is  us <unk><unk>, <unk> of  the ,  and  to  spirit  that  to  the <unk>,  with , . <eos> to  may  that  they  was . . <eos><eos><eos> then ,  in  in  in . . . . . . . . . . . . . . \n",
            "\n",
            "              sent0:  and  god  said ,  let  the  waters  bring  forth <unk> the  moving <unk> that  hath  life ,  and <unk> that  may <unk> above  the  earth  in  the  open <unk> of  heaven . <pad><pad><pad><pad><pad><pad><pad><pad><pad><pad><pad><pad><pad><pad><pad><pad><pad><pad>\n",
            "         sent0_targ: <sos><sos> and  god  said ,  let  the  waters  bring  forth <unk> the  moving <unk> that  hath  life ,  and <unk> that  may <unk> above  the  earth  in  the  open <unk> of  heaven . <eos><eos><pad><pad><pad><pad><pad><pad><pad><pad><pad><pad><pad><pad><pad><pad><pad><pad><pad><pad>\n",
            "              sent1:  and  god  said ,  let  the  waters  be  full  of  living  things ,  and  let  birds  be  in  flight  over  the  earth  under  the <unk> of  heaven . <pad><pad><pad><pad><pad><pad><pad><pad><pad><pad><pad><pad><pad><pad><pad><pad><pad><pad><pad><pad><pad>\n",
            "              sentX:  and  god  said ,  let  the  waters  bring  forth <unk> the  moving <unk> that  hath  life ,  and <unk> that  may <unk> above  the  earth  in  the  open <unk> of  heaven . <pad><pad><pad><pad><pad><pad><pad><pad><pad><pad><pad><pad><pad><pad><pad><pad><pad><pad><pad><pad><pad><pad><pad><pad><pad><pad><pad><pad><pad><pad><pad><pad><pad><pad>\n",
            "recon_sem0_sty0:[TF=0] <sos> and  god  said ,  let  the  horn  be  shining  on  the  earth ,  and  let  it  be  on  the  earth ,  shaking  with  fear  that  life  may  be  seen \n",
            "recon_semX_sty0:[TF=0] <sos> and  god  said ,  let  the  horn  be  sounded  in  the  dark ,  and  let  the  light  be  shining  on  the  earth ,  and  who  is  seated  on  the \n",
            "recon_semX_sty1:[TF=0] <sos> and  god  said ,  let  the  horn  be  sounded  in  the  dark ,  and  let  the  light  be  shining  on  the  earth ,  and  who  is  seated  on  the \n",
            "recon_semX_sty1:[TF=1] <sos> and  god  said ,  let  the  horn  come  down  the  round <unk> on ,  the  the ,  and  let  on  the  be  on  the  earth ;  the  underworld  places  of  the . <eos><eos><eos> then  in  in  in  in  in  in  in  in  in  in  in  in  in  in  in  in \n"
          ],
          "name": "stdout"
        },
        {
          "output_type": "stream",
          "text": [
            "03:42:29 INFO:[61] train rec loss: 1.2673 | sim loss: 0.0000 | anti_disc_loss: 0.0526 || scene disc 0.6892 52.938% \n",
            "03:44:44 INFO:[62] train rec loss: 1.2756 | sim loss: 0.0000 | anti_disc_loss: 0.0564 || scene disc 0.6870 54.619% \n",
            "03:46:59 INFO:[63] train rec loss: 1.2634 | sim loss: 0.0000 | anti_disc_loss: 0.0595 || scene disc 0.6880 53.719% \n",
            "03:49:15 INFO:[64] train rec loss: 1.2553 | sim loss: 0.0000 | anti_disc_loss: 0.0613 || scene disc 0.6907 53.331% \n",
            "03:51:28 INFO:[65] train rec loss: 1.2575 | sim loss: 0.0000 | anti_disc_loss: 0.0795 || scene disc 0.6900 53.094% \n"
          ],
          "name": "stderr"
        },
        {
          "output_type": "error",
          "ename": "KeyboardInterrupt",
          "evalue": "ignored",
          "traceback": [
            "\u001b[0;31m---------------------------------------------------------------------------\u001b[0m",
            "\u001b[0;31mKeyboardInterrupt\u001b[0m                         Traceback (most recent call last)",
            "\u001b[0;32m<ipython-input-9-377da442beb6>\u001b[0m in \u001b[0;36m<module>\u001b[0;34m()\u001b[0m\n\u001b[1;32m      1\u001b[0m \u001b[0msys\u001b[0m\u001b[0;34m.\u001b[0m\u001b[0margv\u001b[0m\u001b[0;34m=\u001b[0m \u001b[0;34m[\u001b[0m\u001b[0;34m\"first_is_filename\"\u001b[0m\u001b[0;34m,\u001b[0m\u001b[0;34m\"--sem_sim_weight\"\u001b[0m\u001b[0;34m,\u001b[0m\u001b[0;34m\"0\"\u001b[0m\u001b[0;34m,\u001b[0m\u001b[0;34m\"--sd_weight\"\u001b[0m\u001b[0;34m,\u001b[0m\u001b[0;34m\"10\"\u001b[0m\u001b[0;34m,\u001b[0m\u001b[0;34m\"--epocs\"\u001b[0m\u001b[0;34m,\u001b[0m\u001b[0;34m\"100\"\u001b[0m\u001b[0;34m,\u001b[0m\u001b[0;34m\"--lr\"\u001b[0m\u001b[0;34m,\u001b[0m\u001b[0;34m\"0.0001\"\u001b[0m\u001b[0;34m]\u001b[0m \u001b[0;31m#change if needed\u001b[0m\u001b[0;34m\u001b[0m\u001b[0m\n\u001b[1;32m      2\u001b[0m \u001b[0mprint\u001b[0m \u001b[0;34m(\u001b[0m\u001b[0mget_options\u001b[0m\u001b[0;34m(\u001b[0m\u001b[0;32mTrue\u001b[0m\u001b[0;34m)\u001b[0m\u001b[0;34m)\u001b[0m  \u001b[0;31m# LR is now 1/10 , after we reached 1.55loss\u001b[0m\u001b[0;34m\u001b[0m\u001b[0m\n\u001b[0;32m----> 3\u001b[0;31m \u001b[0mbucket_iter_train\u001b[0m\u001b[0;34m,\u001b[0m \u001b[0mbucket_iter_val\u001b[0m\u001b[0;34m,\u001b[0m \u001b[0mmodels\u001b[0m\u001b[0;34m=\u001b[0m \u001b[0mtrain_main\u001b[0m\u001b[0;34m(\u001b[0m \u001b[0mget_options\u001b[0m\u001b[0;34m(\u001b[0m\u001b[0;32mTrue\u001b[0m\u001b[0;34m)\u001b[0m\u001b[0;34m,\u001b[0m\u001b[0mbucket_iter_train\u001b[0m\u001b[0;34m,\u001b[0m \u001b[0mbucket_iter_val\u001b[0m\u001b[0;34m,\u001b[0m \u001b[0mmodels\u001b[0m \u001b[0;34m)\u001b[0m\u001b[0;34m\u001b[0m\u001b[0m\n\u001b[0m",
            "\u001b[0;32m/content/paraphraser_pytorch/paraph/train.py\u001b[0m in \u001b[0;36mtrain_main\u001b[0;34m(opt, bucket_iter_train, bucket_iter_val, models)\u001b[0m\n\u001b[1;32m    236\u001b[0m         \u001b[0;32mfor\u001b[0m \u001b[0mepoch\u001b[0m \u001b[0;32min\u001b[0m \u001b[0mrange\u001b[0m\u001b[0;34m(\u001b[0m\u001b[0;36m0\u001b[0m\u001b[0;34m,\u001b[0m \u001b[0mopt\u001b[0m\u001b[0;34m.\u001b[0m\u001b[0mepocs\u001b[0m\u001b[0;34m)\u001b[0m\u001b[0;34m:\u001b[0m\u001b[0;34m\u001b[0m\u001b[0m\n\u001b[1;32m    237\u001b[0m             \u001b[0mset_train\u001b[0m\u001b[0;34m(\u001b[0m\u001b[0mmodels\u001b[0m\u001b[0;34m)\u001b[0m\u001b[0;34m\u001b[0m\u001b[0m\n\u001b[0;32m--> 238\u001b[0;31m             \u001b[0mone_epoc\u001b[0m\u001b[0;34m(\u001b[0m\u001b[0mepoc_count\u001b[0m\u001b[0;34m,\u001b[0m\u001b[0mbucket_iter_train\u001b[0m\u001b[0;34m,\u001b[0m \u001b[0mmodels\u001b[0m\u001b[0;34m,\u001b[0m\u001b[0mdont_optimize\u001b[0m\u001b[0;34m=\u001b[0m\u001b[0;32mFalse\u001b[0m\u001b[0;34m)\u001b[0m\u001b[0;34m\u001b[0m\u001b[0m\n\u001b[0m\u001b[1;32m    239\u001b[0m \u001b[0;34m\u001b[0m\u001b[0m\n\u001b[1;32m    240\u001b[0m             \u001b[0;32mif\u001b[0m \u001b[0mepoch\u001b[0m\u001b[0;34m%\u001b[0m\u001b[0;36m10\u001b[0m\u001b[0;34m==\u001b[0m\u001b[0;36m0\u001b[0m\u001b[0;34m:\u001b[0m\u001b[0;34m\u001b[0m\u001b[0m\n",
            "\u001b[0;32m/content/paraphraser_pytorch/paraph/train.py\u001b[0m in \u001b[0;36mone_epoc\u001b[0;34m(epoch, bucket_iter_train, models, dont_optimize)\u001b[0m\n\u001b[1;32m    178\u001b[0m             \u001b[0;31m# train main model\u001b[0m\u001b[0;34m\u001b[0m\u001b[0;34m\u001b[0m\u001b[0m\n\u001b[1;32m    179\u001b[0m             \u001b[0;31m# %time train(b,epoch) #300ms\u001b[0m\u001b[0;34m\u001b[0m\u001b[0;34m\u001b[0m\u001b[0m\n\u001b[0;32m--> 180\u001b[0;31m             \u001b[0msim_loss\u001b[0m\u001b[0;34m,\u001b[0m \u001b[0mrec_loss\u001b[0m\u001b[0;34m,\u001b[0m \u001b[0manti_disc_loss\u001b[0m \u001b[0;34m=\u001b[0m \u001b[0mtrain\u001b[0m\u001b[0;34m(\u001b[0m\u001b[0mb\u001b[0m\u001b[0;34m,\u001b[0m \u001b[0mmodels\u001b[0m\u001b[0;34m,\u001b[0m \u001b[0mdont_optimize\u001b[0m\u001b[0;34m)\u001b[0m\u001b[0;34m\u001b[0m\u001b[0m\n\u001b[0m\u001b[1;32m    181\u001b[0m             \u001b[0mlogger\u001b[0m\u001b[0;34m.\u001b[0m\u001b[0mdebug\u001b[0m\u001b[0;34m(\u001b[0m\u001b[0;34m'train done'\u001b[0m\u001b[0;34m)\u001b[0m\u001b[0;34m\u001b[0m\u001b[0m\n\u001b[1;32m    182\u001b[0m \u001b[0;34m\u001b[0m\u001b[0m\n",
            "\u001b[0;32m/content/paraphraser_pytorch/paraph/train.py\u001b[0m in \u001b[0;36mtrain\u001b[0;34m(b, models, dont_optimize)\u001b[0m\n\u001b[1;32m     67\u001b[0m         \u001b[0;31m######### RECONSTRUCTION LOSS ######### note: quite slow\u001b[0m\u001b[0;34m\u001b[0m\u001b[0;34m\u001b[0m\u001b[0m\n\u001b[1;32m     68\u001b[0m         \u001b[0;31m# reconstruct sent0 from semantics of sent1 (==sem of sent0, different style), and style of sent0.\u001b[0m\u001b[0;34m\u001b[0m\u001b[0;34m\u001b[0m\u001b[0m\n\u001b[0;32m---> 69\u001b[0;31m         \u001b[0mh_sty0\u001b[0m \u001b[0;34m=\u001b[0m \u001b[0mmodels\u001b[0m\u001b[0;34m.\u001b[0m\u001b[0men_sty\u001b[0m\u001b[0;34m(\u001b[0m\u001b[0mb\u001b[0m\u001b[0;34m.\u001b[0m\u001b[0msent_0\u001b[0m\u001b[0;34m)\u001b[0m\u001b[0;34m\u001b[0m\u001b[0m\n\u001b[0m\u001b[1;32m     70\u001b[0m         \u001b[0mmerged\u001b[0m \u001b[0;34m=\u001b[0m \u001b[0mtorch\u001b[0m\u001b[0;34m.\u001b[0m\u001b[0mcat\u001b[0m\u001b[0;34m(\u001b[0m\u001b[0;34m[\u001b[0m\u001b[0mh_sem1\u001b[0m\u001b[0;34m,\u001b[0m \u001b[0mh_sty0\u001b[0m\u001b[0;34m]\u001b[0m\u001b[0;34m,\u001b[0m \u001b[0mdim\u001b[0m\u001b[0;34m=\u001b[0m\u001b[0;36m1\u001b[0m\u001b[0;34m)\u001b[0m\u001b[0;34m\u001b[0m\u001b[0m\n\u001b[1;32m     71\u001b[0m         \u001b[0mmerged\u001b[0m\u001b[0;34m.\u001b[0m\u001b[0munsqueeze_\u001b[0m\u001b[0;34m(\u001b[0m\u001b[0;36m0\u001b[0m\u001b[0;34m)\u001b[0m  \u001b[0;31m# 32x25 -> 1x32x25 . 1 is for one hidden-layer (not-stacked)\u001b[0m\u001b[0;34m\u001b[0m\u001b[0m\n",
            "\u001b[0;32m/usr/local/lib/python3.6/dist-packages/torch/nn/modules/module.py\u001b[0m in \u001b[0;36m__call__\u001b[0;34m(self, *input, **kwargs)\u001b[0m\n\u001b[1;32m    475\u001b[0m             \u001b[0mresult\u001b[0m \u001b[0;34m=\u001b[0m \u001b[0mself\u001b[0m\u001b[0;34m.\u001b[0m\u001b[0m_slow_forward\u001b[0m\u001b[0;34m(\u001b[0m\u001b[0;34m*\u001b[0m\u001b[0minput\u001b[0m\u001b[0;34m,\u001b[0m \u001b[0;34m**\u001b[0m\u001b[0mkwargs\u001b[0m\u001b[0;34m)\u001b[0m\u001b[0;34m\u001b[0m\u001b[0m\n\u001b[1;32m    476\u001b[0m         \u001b[0;32melse\u001b[0m\u001b[0;34m:\u001b[0m\u001b[0;34m\u001b[0m\u001b[0m\n\u001b[0;32m--> 477\u001b[0;31m             \u001b[0mresult\u001b[0m \u001b[0;34m=\u001b[0m \u001b[0mself\u001b[0m\u001b[0;34m.\u001b[0m\u001b[0mforward\u001b[0m\u001b[0;34m(\u001b[0m\u001b[0;34m*\u001b[0m\u001b[0minput\u001b[0m\u001b[0;34m,\u001b[0m \u001b[0;34m**\u001b[0m\u001b[0mkwargs\u001b[0m\u001b[0;34m)\u001b[0m\u001b[0;34m\u001b[0m\u001b[0m\n\u001b[0m\u001b[1;32m    478\u001b[0m         \u001b[0;32mfor\u001b[0m \u001b[0mhook\u001b[0m \u001b[0;32min\u001b[0m \u001b[0mself\u001b[0m\u001b[0;34m.\u001b[0m\u001b[0m_forward_hooks\u001b[0m\u001b[0;34m.\u001b[0m\u001b[0mvalues\u001b[0m\u001b[0;34m(\u001b[0m\u001b[0;34m)\u001b[0m\u001b[0;34m:\u001b[0m\u001b[0;34m\u001b[0m\u001b[0m\n\u001b[1;32m    479\u001b[0m             \u001b[0mhook_result\u001b[0m \u001b[0;34m=\u001b[0m \u001b[0mhook\u001b[0m\u001b[0;34m(\u001b[0m\u001b[0mself\u001b[0m\u001b[0;34m,\u001b[0m \u001b[0minput\u001b[0m\u001b[0;34m,\u001b[0m \u001b[0mresult\u001b[0m\u001b[0;34m)\u001b[0m\u001b[0;34m\u001b[0m\u001b[0m\n",
            "\u001b[0;32m/content/paraphraser_pytorch/paraph/model.py\u001b[0m in \u001b[0;36mforward\u001b[0;34m(self, inp)\u001b[0m\n\u001b[1;32m    132\u001b[0m     \u001b[0;32mdef\u001b[0m \u001b[0mforward\u001b[0m\u001b[0;34m(\u001b[0m\u001b[0mself\u001b[0m\u001b[0;34m,\u001b[0m \u001b[0minp\u001b[0m\u001b[0;34m)\u001b[0m\u001b[0;34m:\u001b[0m\u001b[0;34m\u001b[0m\u001b[0m\n\u001b[1;32m    133\u001b[0m         \u001b[0;31m# in_data,in_len = in_tuple\u001b[0m\u001b[0;34m\u001b[0m\u001b[0;34m\u001b[0m\u001b[0m\n\u001b[0;32m--> 134\u001b[0;31m         \u001b[0moutput\u001b[0m\u001b[0;34m,\u001b[0m \u001b[0mhidden\u001b[0m \u001b[0;34m=\u001b[0m \u001b[0mself\u001b[0m\u001b[0;34m.\u001b[0m\u001b[0mencoder\u001b[0m\u001b[0;34m(\u001b[0m\u001b[0;34m*\u001b[0m\u001b[0minp\u001b[0m\u001b[0;34m)\u001b[0m  \u001b[0;31m# in_data,in_len)\u001b[0m\u001b[0;34m\u001b[0m\u001b[0m\n\u001b[0m\u001b[1;32m    135\u001b[0m         \u001b[0;31m# **output** (batch, seq_len, hidden_size): tensor containing the encoded features of the input sequence\u001b[0m\u001b[0;34m\u001b[0m\u001b[0;34m\u001b[0m\u001b[0m\n\u001b[1;32m    136\u001b[0m         \u001b[0;31m# **hidden** (num_layers * num_directions, batch, hidden_size):\u001b[0m\u001b[0;34m\u001b[0m\u001b[0;34m\u001b[0m\u001b[0m\n",
            "\u001b[0;32m/usr/local/lib/python3.6/dist-packages/torch/nn/modules/module.py\u001b[0m in \u001b[0;36m__call__\u001b[0;34m(self, *input, **kwargs)\u001b[0m\n\u001b[1;32m    475\u001b[0m             \u001b[0mresult\u001b[0m \u001b[0;34m=\u001b[0m \u001b[0mself\u001b[0m\u001b[0;34m.\u001b[0m\u001b[0m_slow_forward\u001b[0m\u001b[0;34m(\u001b[0m\u001b[0;34m*\u001b[0m\u001b[0minput\u001b[0m\u001b[0;34m,\u001b[0m \u001b[0;34m**\u001b[0m\u001b[0mkwargs\u001b[0m\u001b[0;34m)\u001b[0m\u001b[0;34m\u001b[0m\u001b[0m\n\u001b[1;32m    476\u001b[0m         \u001b[0;32melse\u001b[0m\u001b[0;34m:\u001b[0m\u001b[0;34m\u001b[0m\u001b[0m\n\u001b[0;32m--> 477\u001b[0;31m             \u001b[0mresult\u001b[0m \u001b[0;34m=\u001b[0m \u001b[0mself\u001b[0m\u001b[0;34m.\u001b[0m\u001b[0mforward\u001b[0m\u001b[0;34m(\u001b[0m\u001b[0;34m*\u001b[0m\u001b[0minput\u001b[0m\u001b[0;34m,\u001b[0m \u001b[0;34m**\u001b[0m\u001b[0mkwargs\u001b[0m\u001b[0;34m)\u001b[0m\u001b[0;34m\u001b[0m\u001b[0m\n\u001b[0m\u001b[1;32m    478\u001b[0m         \u001b[0;32mfor\u001b[0m \u001b[0mhook\u001b[0m \u001b[0;32min\u001b[0m \u001b[0mself\u001b[0m\u001b[0;34m.\u001b[0m\u001b[0m_forward_hooks\u001b[0m\u001b[0;34m.\u001b[0m\u001b[0mvalues\u001b[0m\u001b[0;34m(\u001b[0m\u001b[0;34m)\u001b[0m\u001b[0;34m:\u001b[0m\u001b[0;34m\u001b[0m\u001b[0m\n\u001b[1;32m    479\u001b[0m             \u001b[0mhook_result\u001b[0m \u001b[0;34m=\u001b[0m \u001b[0mhook\u001b[0m\u001b[0;34m(\u001b[0m\u001b[0mself\u001b[0m\u001b[0;34m,\u001b[0m \u001b[0minput\u001b[0m\u001b[0;34m,\u001b[0m \u001b[0mresult\u001b[0m\u001b[0;34m)\u001b[0m\u001b[0;34m\u001b[0m\u001b[0m\n",
            "\u001b[0;32m/content/paraphraser_pytorch/paraph/model.py\u001b[0m in \u001b[0;36mforward\u001b[0;34m(self, input_var, input_lengths)\u001b[0m\n\u001b[1;32m    114\u001b[0m         \u001b[0;32mif\u001b[0m \u001b[0mself\u001b[0m\u001b[0;34m.\u001b[0m\u001b[0mvariable_lengths\u001b[0m\u001b[0;34m:\u001b[0m\u001b[0;34m\u001b[0m\u001b[0m\n\u001b[1;32m    115\u001b[0m             \u001b[0membedded\u001b[0m \u001b[0;34m=\u001b[0m \u001b[0mnn\u001b[0m\u001b[0;34m.\u001b[0m\u001b[0mutils\u001b[0m\u001b[0;34m.\u001b[0m\u001b[0mrnn\u001b[0m\u001b[0;34m.\u001b[0m\u001b[0mpack_padded_sequence\u001b[0m\u001b[0;34m(\u001b[0m\u001b[0membedded\u001b[0m\u001b[0;34m,\u001b[0m \u001b[0minput_lengths\u001b[0m\u001b[0;34m,\u001b[0m \u001b[0mbatch_first\u001b[0m\u001b[0;34m=\u001b[0m\u001b[0;32mTrue\u001b[0m\u001b[0;34m)\u001b[0m\u001b[0;34m\u001b[0m\u001b[0m\n\u001b[0;32m--> 116\u001b[0;31m         \u001b[0moutput\u001b[0m\u001b[0;34m,\u001b[0m \u001b[0mhidden\u001b[0m \u001b[0;34m=\u001b[0m \u001b[0mself\u001b[0m\u001b[0;34m.\u001b[0m\u001b[0mrnn\u001b[0m\u001b[0;34m(\u001b[0m\u001b[0membedded\u001b[0m\u001b[0;34m)\u001b[0m\u001b[0;34m\u001b[0m\u001b[0m\n\u001b[0m\u001b[1;32m    117\u001b[0m         \u001b[0;32mif\u001b[0m \u001b[0mself\u001b[0m\u001b[0;34m.\u001b[0m\u001b[0mvariable_lengths\u001b[0m\u001b[0;34m:\u001b[0m\u001b[0;34m\u001b[0m\u001b[0m\n\u001b[1;32m    118\u001b[0m             \u001b[0moutput\u001b[0m\u001b[0;34m,\u001b[0m \u001b[0m_\u001b[0m \u001b[0;34m=\u001b[0m \u001b[0mnn\u001b[0m\u001b[0;34m.\u001b[0m\u001b[0mutils\u001b[0m\u001b[0;34m.\u001b[0m\u001b[0mrnn\u001b[0m\u001b[0;34m.\u001b[0m\u001b[0mpad_packed_sequence\u001b[0m\u001b[0;34m(\u001b[0m\u001b[0moutput\u001b[0m\u001b[0;34m,\u001b[0m \u001b[0mbatch_first\u001b[0m\u001b[0;34m=\u001b[0m\u001b[0;32mTrue\u001b[0m\u001b[0;34m)\u001b[0m\u001b[0;34m\u001b[0m\u001b[0m\n",
            "\u001b[0;32m/usr/local/lib/python3.6/dist-packages/torch/nn/modules/module.py\u001b[0m in \u001b[0;36m__call__\u001b[0;34m(self, *input, **kwargs)\u001b[0m\n\u001b[1;32m    475\u001b[0m             \u001b[0mresult\u001b[0m \u001b[0;34m=\u001b[0m \u001b[0mself\u001b[0m\u001b[0;34m.\u001b[0m\u001b[0m_slow_forward\u001b[0m\u001b[0;34m(\u001b[0m\u001b[0;34m*\u001b[0m\u001b[0minput\u001b[0m\u001b[0;34m,\u001b[0m \u001b[0;34m**\u001b[0m\u001b[0mkwargs\u001b[0m\u001b[0;34m)\u001b[0m\u001b[0;34m\u001b[0m\u001b[0m\n\u001b[1;32m    476\u001b[0m         \u001b[0;32melse\u001b[0m\u001b[0;34m:\u001b[0m\u001b[0;34m\u001b[0m\u001b[0m\n\u001b[0;32m--> 477\u001b[0;31m             \u001b[0mresult\u001b[0m \u001b[0;34m=\u001b[0m \u001b[0mself\u001b[0m\u001b[0;34m.\u001b[0m\u001b[0mforward\u001b[0m\u001b[0;34m(\u001b[0m\u001b[0;34m*\u001b[0m\u001b[0minput\u001b[0m\u001b[0;34m,\u001b[0m \u001b[0;34m**\u001b[0m\u001b[0mkwargs\u001b[0m\u001b[0;34m)\u001b[0m\u001b[0;34m\u001b[0m\u001b[0m\n\u001b[0m\u001b[1;32m    478\u001b[0m         \u001b[0;32mfor\u001b[0m \u001b[0mhook\u001b[0m \u001b[0;32min\u001b[0m \u001b[0mself\u001b[0m\u001b[0;34m.\u001b[0m\u001b[0m_forward_hooks\u001b[0m\u001b[0;34m.\u001b[0m\u001b[0mvalues\u001b[0m\u001b[0;34m(\u001b[0m\u001b[0;34m)\u001b[0m\u001b[0;34m:\u001b[0m\u001b[0;34m\u001b[0m\u001b[0m\n\u001b[1;32m    479\u001b[0m             \u001b[0mhook_result\u001b[0m \u001b[0;34m=\u001b[0m \u001b[0mhook\u001b[0m\u001b[0;34m(\u001b[0m\u001b[0mself\u001b[0m\u001b[0;34m,\u001b[0m \u001b[0minput\u001b[0m\u001b[0;34m,\u001b[0m \u001b[0mresult\u001b[0m\u001b[0;34m)\u001b[0m\u001b[0;34m\u001b[0m\u001b[0m\n",
            "\u001b[0;32m/usr/local/lib/python3.6/dist-packages/torch/nn/modules/rnn.py\u001b[0m in \u001b[0;36mforward\u001b[0;34m(self, input, hx)\u001b[0m\n\u001b[1;32m    190\u001b[0m             \u001b[0mflat_weight\u001b[0m\u001b[0;34m=\u001b[0m\u001b[0mflat_weight\u001b[0m\u001b[0;34m\u001b[0m\u001b[0m\n\u001b[1;32m    191\u001b[0m         )\n\u001b[0;32m--> 192\u001b[0;31m         \u001b[0moutput\u001b[0m\u001b[0;34m,\u001b[0m \u001b[0mhidden\u001b[0m \u001b[0;34m=\u001b[0m \u001b[0mfunc\u001b[0m\u001b[0;34m(\u001b[0m\u001b[0minput\u001b[0m\u001b[0;34m,\u001b[0m \u001b[0mself\u001b[0m\u001b[0;34m.\u001b[0m\u001b[0mall_weights\u001b[0m\u001b[0;34m,\u001b[0m \u001b[0mhx\u001b[0m\u001b[0;34m,\u001b[0m \u001b[0mbatch_sizes\u001b[0m\u001b[0;34m)\u001b[0m\u001b[0;34m\u001b[0m\u001b[0m\n\u001b[0m\u001b[1;32m    193\u001b[0m         \u001b[0;32mif\u001b[0m \u001b[0mis_packed\u001b[0m\u001b[0;34m:\u001b[0m\u001b[0;34m\u001b[0m\u001b[0m\n\u001b[1;32m    194\u001b[0m             \u001b[0moutput\u001b[0m \u001b[0;34m=\u001b[0m \u001b[0mPackedSequence\u001b[0m\u001b[0;34m(\u001b[0m\u001b[0moutput\u001b[0m\u001b[0;34m,\u001b[0m \u001b[0mbatch_sizes\u001b[0m\u001b[0;34m)\u001b[0m\u001b[0;34m\u001b[0m\u001b[0m\n",
            "\u001b[0;32m/usr/local/lib/python3.6/dist-packages/torch/nn/_functions/rnn.py\u001b[0m in \u001b[0;36mforward\u001b[0;34m(input, *fargs, **fkwargs)\u001b[0m\n\u001b[1;32m    322\u001b[0m             \u001b[0mfunc\u001b[0m \u001b[0;34m=\u001b[0m \u001b[0mdecorator\u001b[0m\u001b[0;34m(\u001b[0m\u001b[0mfunc\u001b[0m\u001b[0;34m)\u001b[0m\u001b[0;34m\u001b[0m\u001b[0m\n\u001b[1;32m    323\u001b[0m \u001b[0;34m\u001b[0m\u001b[0m\n\u001b[0;32m--> 324\u001b[0;31m         \u001b[0;32mreturn\u001b[0m \u001b[0mfunc\u001b[0m\u001b[0;34m(\u001b[0m\u001b[0minput\u001b[0m\u001b[0;34m,\u001b[0m \u001b[0;34m*\u001b[0m\u001b[0mfargs\u001b[0m\u001b[0;34m,\u001b[0m \u001b[0;34m**\u001b[0m\u001b[0mfkwargs\u001b[0m\u001b[0;34m)\u001b[0m\u001b[0;34m\u001b[0m\u001b[0m\n\u001b[0m\u001b[1;32m    325\u001b[0m \u001b[0;34m\u001b[0m\u001b[0m\n\u001b[1;32m    326\u001b[0m     \u001b[0;32mreturn\u001b[0m \u001b[0mforward\u001b[0m\u001b[0;34m\u001b[0m\u001b[0m\n",
            "\u001b[0;32m/usr/local/lib/python3.6/dist-packages/torch/nn/_functions/rnn.py\u001b[0m in \u001b[0;36mforward\u001b[0;34m(input, weight, hx, batch_sizes)\u001b[0m\n\u001b[1;32m    286\u001b[0m             \u001b[0mbatch_first\u001b[0m\u001b[0;34m,\u001b[0m \u001b[0mdropout\u001b[0m\u001b[0;34m,\u001b[0m \u001b[0mtrain\u001b[0m\u001b[0;34m,\u001b[0m \u001b[0mbool\u001b[0m\u001b[0;34m(\u001b[0m\u001b[0mbidirectional\u001b[0m\u001b[0;34m)\u001b[0m\u001b[0;34m,\u001b[0m\u001b[0;34m\u001b[0m\u001b[0m\n\u001b[1;32m    287\u001b[0m             \u001b[0mlist\u001b[0m\u001b[0;34m(\u001b[0m\u001b[0mbatch_sizes\u001b[0m\u001b[0;34m.\u001b[0m\u001b[0mdata\u001b[0m\u001b[0;34m)\u001b[0m \u001b[0;32mif\u001b[0m \u001b[0mvariable_length\u001b[0m \u001b[0;32melse\u001b[0m \u001b[0;34m(\u001b[0m\u001b[0;34m)\u001b[0m\u001b[0;34m,\u001b[0m\u001b[0;34m\u001b[0m\u001b[0m\n\u001b[0;32m--> 288\u001b[0;31m             dropout_ts)\n\u001b[0m\u001b[1;32m    289\u001b[0m \u001b[0;34m\u001b[0m\u001b[0m\n\u001b[1;32m    290\u001b[0m         \u001b[0;32mif\u001b[0m \u001b[0mcx\u001b[0m \u001b[0;32mis\u001b[0m \u001b[0;32mnot\u001b[0m \u001b[0;32mNone\u001b[0m\u001b[0;34m:\u001b[0m\u001b[0;34m\u001b[0m\u001b[0m\n",
            "\u001b[0;31mKeyboardInterrupt\u001b[0m: "
          ]
        }
      ]
    },
    {
      "metadata": {
        "id": "j6YTtj0vvKq9",
        "colab_type": "code",
        "colab": {}
      },
      "cell_type": "code",
      "source": [
        ""
      ],
      "execution_count": 0,
      "outputs": []
    }
  ]
}